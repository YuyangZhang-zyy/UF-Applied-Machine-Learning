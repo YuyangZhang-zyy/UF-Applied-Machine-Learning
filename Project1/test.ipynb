{
 "cells": [
  {
   "cell_type": "code",
   "execution_count": 1,
   "id": "d4e010c3-43ca-4a44-b762-e6ce25d060f5",
   "metadata": {},
   "outputs": [],
   "source": [
    "# load libraries and magics\n",
    "import numpy as np\n",
    "import matplotlib.pyplot as plt\n",
    "import pandas as pd\n",
    "from sklearn.model_selection import cross_val_score\n",
    "import scipy.stats as stats\n",
    "import joblib\n",
    "import pickle\n",
    "%matplotlib inline\n",
    "plt.style.use('bmh')"
   ]
  },
  {
   "cell_type": "code",
   "execution_count": 2,
   "id": "c12dc7f6-f643-4e73-93c6-bf5a9c96362c",
   "metadata": {
    "tags": []
   },
   "outputs": [],
   "source": [
    "# Calculate the confidence interval\n",
    "def confidence_interval(model, X, y, score):\n",
    "    confidence = 0.95\n",
    "    scores = cross_val_score(model, X, y, n_jobs=-1, cv=10, scoring=score)\n",
    "    print(scores)\n",
    "    print('95% CI: ', stats.t.interval(confidence, len(scores) - 1,\n",
    "                 loc=scores.mean(),\n",
    "                 scale=scores.std(ddof=1)/np.sqrt(len(scores))))"
   ]
  },
  {
   "cell_type": "markdown",
   "id": "e9bb31f7-3303-45e9-b589-08d0e5363bea",
   "metadata": {},
   "source": [
    "**2. Gross Income**\n",
    "\n",
    "**Multiple linear regression without Lasso regularization**"
   ]
  },
  {
   "cell_type": "code",
   "execution_count": 4,
   "id": "55b49c1c-2880-4526-bdc6-f4180266ca3d",
   "metadata": {
    "tags": []
   },
   "outputs": [
    {
     "name": "stdout",
     "output_type": "stream",
     "text": [
      "[1. 1. 1. 1. 1. 1. 1. 1. 1. 1.]\n",
      "95% CI:  (nan, nan)\n"
     ]
    }
   ],
   "source": [
    "# Load gross income question's files\n",
    "with open('X_gi_test.pkl', 'rb') as file:\n",
    "    X_gi_test = pickle.load(file)\n",
    "with open('y_gi_test.pkl', 'rb') as file:\n",
    "    y_gi_test = pickle.load(file)\n",
    "\n",
    "reg_gi = joblib.load('reg_gi.pkl')\n",
    "confidence_interval(reg_gi, X_gi_test, y_gi_test, 'r2')"
   ]
  },
  {
   "cell_type": "markdown",
   "id": "ec02065a-bf6a-48c0-b99b-5bbf051a62db",
   "metadata": {},
   "source": [
    "It can be seen from the 10 ratings that the model perfectly fits the test set. The 95% confidence interval cannot be displayed because all 10 cross-validations gave a score of 1, resulting in no interval generation. This gives us reason to suspect that a certain feature in the data set has a very large correlation with the target gross income."
   ]
  },
  {
   "cell_type": "markdown",
   "id": "c348550b-c93d-49ff-b3e5-cf2532c01798",
   "metadata": {
    "tags": []
   },
   "source": [
    "**Multiple linear regression with Lasso regularization**"
   ]
  },
  {
   "cell_type": "code",
   "execution_count": 5,
   "id": "d046e0fc-bdbf-4b38-85ac-4b2a91153500",
   "metadata": {
    "tags": []
   },
   "outputs": [
    {
     "name": "stdout",
     "output_type": "stream",
     "text": [
      "[0.99999997 0.99999994 0.99999996 0.99999997 0.99999997 0.99999996\n",
      " 0.99999997 0.99999996 0.99999996 0.99999993]\n",
      "95% CI:  (0.999999949476992, 0.9999999667352704)\n"
     ]
    }
   ],
   "source": [
    "# Load gross income lasso model\n",
    "lasso_gi = joblib.load('lasso_gi.pkl')\n",
    "confidence_interval(lasso_gi, X_gi_test, y_gi_test, 'r2')"
   ]
  },
  {
   "cell_type": "markdown",
   "id": "dd97a3ce-ab3d-45c8-9d17-5e37b748f48a",
   "metadata": {},
   "source": [
    "The R-squares given by the lasso regression model in 10 cross-validations were extremely close to 1, causing its interval to be between two values very close to 1. This also means that the model predicts the test sets perfectly."
   ]
  },
  {
   "cell_type": "markdown",
   "id": "e8b76047-d465-4111-abe4-023607da8cdd",
   "metadata": {},
   "source": [
    "**3. Unit Price**\n",
    "\n",
    "**Multiple linear regression without Lasso regularization**"
   ]
  },
  {
   "cell_type": "code",
   "execution_count": 6,
   "id": "230f28ec-1627-49ae-9953-f336163f7586",
   "metadata": {
    "tags": []
   },
   "outputs": [
    {
     "name": "stdout",
     "output_type": "stream",
     "text": [
      "[0.83404801 0.70536005 0.78172399 0.82056849 0.90004884 0.79939464\n",
      " 0.78633037 0.72680215 0.77148417 0.42938543]\n",
      "95% CI:  (0.6647751923762993, 0.8462540338055066)\n"
     ]
    }
   ],
   "source": [
    "# Load unit price question's files\n",
    "with open('X_up_test.pkl', 'rb') as file:\n",
    "    X_up_test = pickle.load(file)\n",
    "with open('y_up_test.pkl', 'rb') as file:\n",
    "    y_up_test = pickle.load(file)\n",
    "\n",
    "reg_up = joblib.load('reg_up.pkl')\n",
    "confidence_interval(reg_up, X_up_test, y_up_test, 'r2')"
   ]
  },
  {
   "cell_type": "markdown",
   "id": "9d32dfcd-754e-4133-b710-1ad75da6b45d",
   "metadata": {},
   "source": [
    "The R-square values given by 10 times of cross-validation were very different, which resulted in the 95% confidence interval is about 0.66-0.85. This indicates that the model can predict unit price well but is not good in reliability."
   ]
  },
  {
   "cell_type": "markdown",
   "id": "b44e04ee-64d4-4cc8-96b9-e9a1006de9c1",
   "metadata": {
    "tags": []
   },
   "source": [
    "**Multiple linear regression with Lasso regularization**"
   ]
  },
  {
   "cell_type": "code",
   "execution_count": 7,
   "id": "0b2138be-b6c0-4b05-bc43-508bbcf9f9c1",
   "metadata": {
    "tags": []
   },
   "outputs": [
    {
     "name": "stdout",
     "output_type": "stream",
     "text": [
      "[0.80873545 0.66830498 0.76431738 0.8478596  0.88385352 0.86796953\n",
      " 0.81243753 0.75003663 0.79932079 0.45208976]\n",
      "95% CI:  (0.6748742709979244, 0.856110762528122)\n"
     ]
    }
   ],
   "source": [
    "# Load unit price lasso model\n",
    "lasso_up = joblib.load('lasso_up.pkl')\n",
    "confidence_interval(lasso_up, X_up_test, y_up_test, 'r2')"
   ]
  },
  {
   "cell_type": "markdown",
   "id": "02d85dae-4c41-4b3b-8288-8b43afeeb555",
   "metadata": {},
   "source": [
    "The 95% confidence interval of this task is about 0.67-0.86, which is not much different from linear regression. Similar as the linear regression model without regularization, the model can predict unit price well but is stil not good in reliability."
   ]
  },
  {
   "cell_type": "markdown",
   "id": "c9fc2aee-2eed-47d3-a7af-2f655f318d8f",
   "metadata": {},
   "source": [
    "**4. Gender**\n",
    "\n",
    "**Logistic regression**"
   ]
  },
  {
   "cell_type": "code",
   "execution_count": 8,
   "id": "b4832000-f26b-4157-a00a-c23774ca16eb",
   "metadata": {
    "tags": []
   },
   "outputs": [],
   "source": [
    "# Load gender question's files\n",
    "with open('X_g_test.pkl', 'rb') as file:\n",
    "    X_g_test = pickle.load(file)\n",
    "with open('y_g_test.pkl', 'rb') as file:\n",
    "    y_g_test = pickle.load(file)\n",
    "\n",
    "log_g = joblib.load('log_g.pkl')"
   ]
  },
  {
   "cell_type": "code",
   "execution_count": 9,
   "id": "a7a8dfc5-a69c-4886-ae10-11ff94849c57",
   "metadata": {
    "tags": []
   },
   "outputs": [
    {
     "data": {
      "text/html": [
       "<div>\n",
       "<style scoped>\n",
       "    .dataframe tbody tr th:only-of-type {\n",
       "        vertical-align: middle;\n",
       "    }\n",
       "\n",
       "    .dataframe tbody tr th {\n",
       "        vertical-align: top;\n",
       "    }\n",
       "\n",
       "    .dataframe thead th {\n",
       "        text-align: right;\n",
       "    }\n",
       "</style>\n",
       "<table border=\"1\" class=\"dataframe\">\n",
       "  <thead>\n",
       "    <tr style=\"text-align: right;\">\n",
       "      <th></th>\n",
       "      <th>Attributes</th>\n",
       "      <th>Coefficients</th>\n",
       "    </tr>\n",
       "  </thead>\n",
       "  <tbody>\n",
       "    <tr>\n",
       "      <th>0</th>\n",
       "      <td>Intercept</td>\n",
       "      <td>1.4266592579426441e-05</td>\n",
       "    </tr>\n",
       "    <tr>\n",
       "      <th>1</th>\n",
       "      <td>Product line</td>\n",
       "      <td>-0.0008915636385800437</td>\n",
       "    </tr>\n",
       "    <tr>\n",
       "      <th>2</th>\n",
       "      <td>Payment</td>\n",
       "      <td>-0.00021086500102048575</td>\n",
       "    </tr>\n",
       "    <tr>\n",
       "      <th>3</th>\n",
       "      <td>gross income</td>\n",
       "      <td>-0.00033372780435629974</td>\n",
       "    </tr>\n",
       "    <tr>\n",
       "      <th>4</th>\n",
       "      <td>Product line + Payment</td>\n",
       "      <td>-0.0013488729249204958</td>\n",
       "    </tr>\n",
       "    <tr>\n",
       "      <th>5</th>\n",
       "      <td>Product line + gross income</td>\n",
       "      <td>-0.0025618382137598933</td>\n",
       "    </tr>\n",
       "    <tr>\n",
       "      <th>6</th>\n",
       "      <td>Payment + gross income</td>\n",
       "      <td>-0.0001326472941749086</td>\n",
       "    </tr>\n",
       "  </tbody>\n",
       "</table>\n",
       "</div>"
      ],
      "text/plain": [
       "                    Attributes             Coefficients\n",
       "0                    Intercept   1.4266592579426441e-05\n",
       "1                 Product line   -0.0008915636385800437\n",
       "2                      Payment  -0.00021086500102048575\n",
       "3                 gross income  -0.00033372780435629974\n",
       "4       Product line + Payment   -0.0013488729249204958\n",
       "5  Product line + gross income   -0.0025618382137598933\n",
       "6       Payment + gross income   -0.0001326472941749086"
      ]
     },
     "execution_count": 9,
     "metadata": {},
     "output_type": "execute_result"
    }
   ],
   "source": [
    "# Output attributes and their coefficients\n",
    "poly_attributes_g = ['Intercept']\n",
    "attrib_names = np.array(['Product line', 'Payment', 'gross income'])\n",
    "N_attributes = log_g.named_steps['poly_feat'].powers_.shape[0]\n",
    "\n",
    "for i in range(1,N_attributes):\n",
    "    temp = attrib_names[log_g.named_steps['poly_feat'].powers_[i,:]==1]\n",
    "    \n",
    "    if len(temp)==1:\n",
    "        poly_attributes_g += [temp[0]]\n",
    "    else:\n",
    "        poly_attributes_g += [temp[0]+' + '+temp[1]]\n",
    "        \n",
    "poly_attributes_g = np.array(poly_attributes_g).reshape(-1,1)\n",
    "w_g = log_g.named_steps['classifier'].coef_.T\n",
    "pd.DataFrame(np.hstack((poly_attributes_g, w_g)), columns=['Attributes', 'Coefficients'])"
   ]
  },
  {
   "cell_type": "markdown",
   "id": "4eba6ad7-ff29-4ce2-9534-4cd0b0747cf9",
   "metadata": {},
   "source": [
    "Among the 7 attributes, 'Product line + gross income' has the highest coefficients, which also means that it is the most informative attribute."
   ]
  },
  {
   "cell_type": "code",
   "execution_count": 10,
   "id": "c82f61d4-0ed8-4738-94c9-2db4c00a5e9a",
   "metadata": {
    "tags": []
   },
   "outputs": [
    {
     "data": {
      "image/png": "[encoded data removed]",
      "text/plain": [
       "<Figure size 864x432 with 1 Axes>"
      ]
     },
     "metadata": {
      "needs_background": "light"
     },
     "output_type": "display_data"
    }
   ],
   "source": [
    "# Male customers parameters values for all attributes and 2nd-order interactions\n",
    "with open('male.pkl', 'rb') as file:\n",
    "    male = pickle.load(file)\n",
    "\n",
    "X_male = male[['Product line', 'Payment', 'gross income']]\n",
    "\n",
    "# Calculate the parameter values for the logistic regression model\n",
    "parameter_values = log_g.named_steps['classifier'].coef_\n",
    "\n",
    "# Create a DataFrame to store the attributes and their coefficients\n",
    "attributes_and_coefficients = pd.DataFrame({\n",
    "    'Attributes': log_g.named_steps['poly_feat'].get_feature_names_out(input_features=X_male.columns),\n",
    "    'Coefficients': parameter_values[0]\n",
    "})\n",
    "\n",
    "# Plot\n",
    "plt.figure(figsize=(12, 6))\n",
    "plt.barh(attributes_and_coefficients['Attributes'], attributes_and_coefficients['Coefficients'])\n",
    "plt.xlabel('Coefficient Value')\n",
    "plt.ylabel('Attributes and 2nd-order Interactions')\n",
    "plt.title('Parameter Values for Gender=Male Customers')\n",
    "plt.show()"
   ]
  },
  {
   "cell_type": "markdown",
   "id": "0f2d99f6-4a20-4d31-b5f7-3e8ea27b5002",
   "metadata": {},
   "source": [
    "By observation, ‘Product line + gross income’ is also the most informative attribute in male customers."
   ]
  },
  {
   "cell_type": "code",
   "execution_count": 11,
   "id": "ec130b69-7002-4f50-81bd-35e1137b31dd",
   "metadata": {
    "tags": []
   },
   "outputs": [
    {
     "name": "stdout",
     "output_type": "stream",
     "text": [
      "[0.57142857 0.57142857 0.57142857 0.57142857 0.57142857 0.57142857\n",
      " 0.5        0.5        0.5        0.5       ]\n",
      "95% CI:  (0.5164708058728689, 0.569243479841417)\n"
     ]
    }
   ],
   "source": [
    "confidence_interval(log_g, X_g_test, y_g_test, 'accuracy')"
   ]
  },
  {
   "cell_type": "markdown",
   "id": "ca557308-1ec7-46be-8b47-9f96a38872c5",
   "metadata": {},
   "source": [
    "This means that the model will tend to predict more male customers when predicting customer gender."
   ]
  },
  {
   "cell_type": "markdown",
   "id": "df0a2406-3d2a-452a-89ed-96e5aa075543",
   "metadata": {},
   "source": [
    "**5. Customer type**\n",
    "\n",
    "**Logistic Regression**"
   ]
  },
  {
   "cell_type": "code",
   "execution_count": 12,
   "id": "500fdf52-908c-41e5-b24f-823e4501dfe5",
   "metadata": {
    "tags": []
   },
   "outputs": [],
   "source": [
    "# Load customer type question's files\n",
    "with open('X_ct_test.pkl', 'rb') as file:\n",
    "    X_ct_test = pickle.load(file)\n",
    "with open('y_ct_test.pkl', 'rb') as file:\n",
    "    y_ct_test = pickle.load(file)\n",
    "\n",
    "log_ct = joblib.load('log_ct.pkl')"
   ]
  },
  {
   "cell_type": "code",
   "execution_count": 13,
   "id": "44da0515-f36d-402a-93fa-b2d25ddb325c",
   "metadata": {
    "tags": []
   },
   "outputs": [
    {
     "data": {
      "text/html": [
       "<div>\n",
       "<style scoped>\n",
       "    .dataframe tbody tr th:only-of-type {\n",
       "        vertical-align: middle;\n",
       "    }\n",
       "\n",
       "    .dataframe tbody tr th {\n",
       "        vertical-align: top;\n",
       "    }\n",
       "\n",
       "    .dataframe thead th {\n",
       "        text-align: right;\n",
       "    }\n",
       "</style>\n",
       "<table border=\"1\" class=\"dataframe\">\n",
       "  <thead>\n",
       "    <tr style=\"text-align: right;\">\n",
       "      <th></th>\n",
       "      <th>Attributes</th>\n",
       "      <th>Coefficients</th>\n",
       "    </tr>\n",
       "  </thead>\n",
       "  <tbody>\n",
       "    <tr>\n",
       "      <th>0</th>\n",
       "      <td>Intercept</td>\n",
       "      <td>8.990082754278079e-05</td>\n",
       "    </tr>\n",
       "    <tr>\n",
       "      <th>1</th>\n",
       "      <td>Gender</td>\n",
       "      <td>0.00031465289639973277</td>\n",
       "    </tr>\n",
       "    <tr>\n",
       "      <th>2</th>\n",
       "      <td>Date</td>\n",
       "      <td>0.0005843553790280751</td>\n",
       "    </tr>\n",
       "    <tr>\n",
       "      <th>3</th>\n",
       "      <td>Time</td>\n",
       "      <td>-0.00022475206885695198</td>\n",
       "    </tr>\n",
       "    <tr>\n",
       "      <th>4</th>\n",
       "      <td>Gender + Date</td>\n",
       "      <td>0.0008540578616564175</td>\n",
       "    </tr>\n",
       "    <tr>\n",
       "      <th>5</th>\n",
       "      <td>Gender + Time</td>\n",
       "      <td>0.0004944545514852944</td>\n",
       "    </tr>\n",
       "    <tr>\n",
       "      <th>6</th>\n",
       "      <td>Date + Time</td>\n",
       "      <td>0.0006293057927994655</td>\n",
       "    </tr>\n",
       "  </tbody>\n",
       "</table>\n",
       "</div>"
      ],
      "text/plain": [
       "      Attributes             Coefficients\n",
       "0      Intercept    8.990082754278079e-05\n",
       "1         Gender   0.00031465289639973277\n",
       "2           Date    0.0005843553790280751\n",
       "3           Time  -0.00022475206885695198\n",
       "4  Gender + Date    0.0008540578616564175\n",
       "5  Gender + Time    0.0004944545514852944\n",
       "6    Date + Time    0.0006293057927994655"
      ]
     },
     "execution_count": 13,
     "metadata": {},
     "output_type": "execute_result"
    }
   ],
   "source": [
    "# Output attributes and their coefficients\n",
    "poly_attributes_ct = ['Intercept']\n",
    "attrib_names = np.array(['Gender', 'Date', 'Time'])\n",
    "N_attributes = log_ct.named_steps['poly_feat'].powers_.shape[0]\n",
    "\n",
    "for i in range(1,N_attributes):\n",
    "    temp = attrib_names[log_g.named_steps['poly_feat'].powers_[i,:]==1]\n",
    "    \n",
    "    if len(temp)==1:\n",
    "        poly_attributes_ct += [temp[0]]\n",
    "    else:\n",
    "        poly_attributes_ct += [temp[0]+' + '+temp[1]]\n",
    "        \n",
    "poly_attributes_ct = np.array(poly_attributes_ct).reshape(-1,1)\n",
    "w_ct = log_ct.named_steps['classifier'].coef_.T\n",
    "pd.DataFrame(np.hstack((poly_attributes_ct, w_ct)), columns=['Attributes', 'Coefficients'])"
   ]
  },
  {
   "cell_type": "markdown",
   "id": "fcba63fe-27e5-4cd2-9329-bc7f0c89a763",
   "metadata": {},
   "source": [
    "‘Gender + Date’ is the most informative."
   ]
  },
  {
   "cell_type": "code",
   "execution_count": 14,
   "id": "82da5bd6-35ef-4932-bb3a-fe1d2cdcd652",
   "metadata": {
    "tags": []
   },
   "outputs": [
    {
     "data": {
      "image/png": "[encoded data removed]",
      "text/plain": [
       "<Figure size 864x432 with 1 Axes>"
      ]
     },
     "metadata": {
      "needs_background": "light"
     },
     "output_type": "display_data"
    }
   ],
   "source": [
    "# Normal customers parameters values for all attributes and 2nd-order interactions\n",
    "with open('normal.pkl', 'rb') as file:\n",
    "    normal = pickle.load(file)\n",
    "\n",
    "# Extract the relevant features (Product line, Payment, and gross income)\n",
    "X_normal = normal[['Gender', 'Date', 'Time']]\n",
    "\n",
    "# Calculate the parameter values for the logistic regression model\n",
    "parameter_values = log_ct.named_steps['classifier'].coef_\n",
    "\n",
    "# Create a DataFrame to store the attributes and their coefficients\n",
    "attributes_and_coefficients = pd.DataFrame({\n",
    "    'Attributes': log_g.named_steps['poly_feat'].get_feature_names_out(input_features=X_normal.columns),\n",
    "    'Coefficients': parameter_values[0]\n",
    "})\n",
    "\n",
    "# Plot\n",
    "plt.figure(figsize=(12, 6))\n",
    "plt.barh(attributes_and_coefficients['Attributes'], attributes_and_coefficients['Coefficients'])\n",
    "plt.xlabel('Coefficient Value')\n",
    "plt.ylabel('Attributes and 2nd-order Interactions')\n",
    "plt.title('Parameter Values for Gender=Male Customers')\n",
    "plt.show()"
   ]
  },
  {
   "cell_type": "markdown",
   "id": "2c07c1d7-5792-4efc-a2d1-bda7bd1d2487",
   "metadata": {
    "tags": []
   },
   "source": [
    "‘Gender + Date’ is still the most informative in normal customers."
   ]
  },
  {
   "cell_type": "code",
   "execution_count": 15,
   "id": "1ea7f009-350a-4ea5-8388-bc518c4c3092",
   "metadata": {
    "tags": []
   },
   "outputs": [
    {
     "name": "stdout",
     "output_type": "stream",
     "text": [
      "[0.57142857 0.57142857 0.57142857 0.57142857 0.57142857 0.57142857\n",
      " 0.5        0.66666667 0.66666667 0.66666667]\n",
      "95% CI:  (0.5531556663505299, 0.6325586193637558)\n"
     ]
    }
   ],
   "source": [
    "confidence_interval(log_ct, X_ct_test, y_ct_test, 'accuracy')"
   ]
  },
  {
   "cell_type": "markdown",
   "id": "270439d3-1428-4256-a02a-a52bcb4b877f",
   "metadata": {},
   "source": [
    "This means that the model will tend to predict more normal members when predicting customer type."
   ]
  },
  {
   "cell_type": "markdown",
   "id": "16e83d8d-96bb-4071-a95d-8bca736b0fde",
   "metadata": {},
   "source": [
    "**6.** \n",
    "\n",
    "**Logistic regression**"
   ]
  },
  {
   "cell_type": "code",
   "execution_count": 16,
   "id": "d1e09336-0d1b-4f6e-a3b1-766c012474f9",
   "metadata": {
    "tags": []
   },
   "outputs": [
    {
     "name": "stdout",
     "output_type": "stream",
     "text": [
      "[0.15 0.1  0.15 0.15 0.15 0.15 0.15 0.15 0.15 0.15]\n",
      "95% CI:  (0.133689214186295, 0.15631078581370492)\n"
     ]
    }
   ],
   "source": [
    "# Load day of purchase question's files\n",
    "with open('X_dp_test.pkl', 'rb') as file:\n",
    "    X_dp_test = pickle.load(file)\n",
    "with open('y_dp_test.pkl', 'rb') as file:\n",
    "    y_dp_test = pickle.load(file)\n",
    "\n",
    "log_dp = joblib.load('log_dp.pkl')\n",
    "confidence_interval(log_dp, X_dp_test, y_dp_test, 'accuracy')"
   ]
  },
  {
   "cell_type": "markdown",
   "id": "36271a6e-194e-43ac-b85e-df100835fb3d",
   "metadata": {},
   "source": [
    "**Random forest**"
   ]
  },
  {
   "cell_type": "code",
   "execution_count": 18,
   "id": "45afbff1-abb9-4554-946a-6a2e8dc68b4a",
   "metadata": {
    "tags": []
   },
   "outputs": [
    {
     "name": "stdout",
     "output_type": "stream",
     "text": [
      "[0.1  0.15 0.05 0.3  0.15 0.1  0.2  0.15 0.15 0.2 ]\n",
      "95% CI:  (0.10598659480727848, 0.20401340519272146)\n"
     ]
    }
   ],
   "source": [
    "# # Load day of purchase question's files\n",
    "rf_dp = joblib.load('rf_dp.pkl')\n",
    "confidence_interval(rf_dp, X_dp_test, y_dp_test, 'accuracy')"
   ]
  },
  {
   "cell_type": "markdown",
   "id": "db5067d7-bc79-4408-98df-82bc7eace4b9",
   "metadata": {},
   "source": [
    "By outputting the 95% confidence interval of both the logistic regression model and the random forest model, we find that the interval of the logistic regression model is approximately 0.13-0.16, while the interval of the random forest model is approximately 0.11-0.20. Since the interval of the logistic regression model has a smaller gap, this means that it can predict the day of purchase more reliably, which also means that we will give priority to the logistic regression model."
   ]
  },
  {
   "cell_type": "code",
   "execution_count": null,
   "id": "cc3c5325-6d82-4d3f-883b-bd51dc9d36a4",
   "metadata": {},
   "outputs": [],
   "source": []
  }
 ],
 "metadata": {
  "kernelspec": {
   "display_name": "UFRC Python-3.10",
   "language": "python",
   "name": "python3-3.10-ufrc"
  },
  "language_info": {
   "codemirror_mode": {
    "name": "ipython",
    "version": 3
   },
   "file_extension": ".py",
   "mimetype": "text/x-python",
   "name": "python",
   "nbconvert_exporter": "python",
   "pygments_lexer": "ipython3",
   "version": "3.10.5"
  }
 },
 "nbformat": 4,
 "nbformat_minor": 5
}
