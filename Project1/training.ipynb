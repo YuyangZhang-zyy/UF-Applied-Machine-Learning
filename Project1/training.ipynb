{
 "cells": [
  {
   "cell_type": "code",
   "execution_count": 1,
   "id": "b2f3f6ad-3983-4134-8605-dd8cae99cea9",
   "metadata": {
    "tags": []
   },
   "outputs": [],
   "source": [
    "# load libraries and magics\n",
    "import numpy as np\n",
    "import matplotlib.pyplot as plt\n",
    "import pandas as pd\n",
    "import datetime\n",
    "from sklearn.pipeline import Pipeline\n",
    "from sklearn.compose import ColumnTransformer\n",
    "from sklearn.preprocessing import StandardScaler, OneHotEncoder, OrdinalEncoder, FunctionTransformer\n",
    "from sklearn.model_selection import train_test_split, GridSearchCV\n",
    "from sklearn.linear_model import LinearRegression, Lasso\n",
    "from sklearn.metrics import f1_score\n",
    "from sklearn.preprocessing import PolynomialFeatures\n",
    "from sklearn.linear_model import LogisticRegression\n",
    "from sklearn.ensemble import RandomForestClassifier\n",
    "import joblib\n",
    "import pickle\n",
    "%matplotlib inline\n",
    "plt.style.use('bmh')"
   ]
  },
  {
   "cell_type": "code",
   "execution_count": 2,
   "id": "2c7e626e-8d02-419b-8d81-79067d8b1d82",
   "metadata": {
    "tags": []
   },
   "outputs": [
    {
     "data": {
      "text/html": [
       "<div>\n",
       "<style scoped>\n",
       "    .dataframe tbody tr th:only-of-type {\n",
       "        vertical-align: middle;\n",
       "    }\n",
       "\n",
       "    .dataframe tbody tr th {\n",
       "        vertical-align: top;\n",
       "    }\n",
       "\n",
       "    .dataframe thead th {\n",
       "        text-align: right;\n",
       "    }\n",
       "</style>\n",
       "<table border=\"1\" class=\"dataframe\">\n",
       "  <thead>\n",
       "    <tr style=\"text-align: right;\">\n",
       "      <th></th>\n",
       "      <th>Invoice ID</th>\n",
       "      <th>Branch</th>\n",
       "      <th>City</th>\n",
       "      <th>Customer type</th>\n",
       "      <th>Gender</th>\n",
       "      <th>Product line</th>\n",
       "      <th>Unit price</th>\n",
       "      <th>Quantity</th>\n",
       "      <th>Total</th>\n",
       "      <th>Date</th>\n",
       "      <th>Time</th>\n",
       "      <th>Payment</th>\n",
       "      <th>cogs</th>\n",
       "      <th>gross margin percentage</th>\n",
       "      <th>gross income</th>\n",
       "      <th>Rating</th>\n",
       "    </tr>\n",
       "  </thead>\n",
       "  <tbody>\n",
       "    <tr>\n",
       "      <th>0</th>\n",
       "      <td>750-67-8428</td>\n",
       "      <td>A</td>\n",
       "      <td>Yangon</td>\n",
       "      <td>Member</td>\n",
       "      <td>Female</td>\n",
       "      <td>Health and beauty</td>\n",
       "      <td>74.69</td>\n",
       "      <td>7</td>\n",
       "      <td>548.9715</td>\n",
       "      <td>1/5/2019</td>\n",
       "      <td>13:08</td>\n",
       "      <td>Ewallet</td>\n",
       "      <td>522.83</td>\n",
       "      <td>4.761905</td>\n",
       "      <td>26.1415</td>\n",
       "      <td>9.1</td>\n",
       "    </tr>\n",
       "    <tr>\n",
       "      <th>1</th>\n",
       "      <td>226-31-3081</td>\n",
       "      <td>C</td>\n",
       "      <td>Naypyitaw</td>\n",
       "      <td>Normal</td>\n",
       "      <td>Female</td>\n",
       "      <td>Electronic accessories</td>\n",
       "      <td>15.28</td>\n",
       "      <td>5</td>\n",
       "      <td>80.2200</td>\n",
       "      <td>3/8/2019</td>\n",
       "      <td>10:29</td>\n",
       "      <td>Cash</td>\n",
       "      <td>76.40</td>\n",
       "      <td>4.761905</td>\n",
       "      <td>3.8200</td>\n",
       "      <td>9.6</td>\n",
       "    </tr>\n",
       "    <tr>\n",
       "      <th>2</th>\n",
       "      <td>631-41-3108</td>\n",
       "      <td>A</td>\n",
       "      <td>Yangon</td>\n",
       "      <td>Normal</td>\n",
       "      <td>Male</td>\n",
       "      <td>Home and lifestyle</td>\n",
       "      <td>46.33</td>\n",
       "      <td>7</td>\n",
       "      <td>340.5255</td>\n",
       "      <td>3/3/2019</td>\n",
       "      <td>13:23</td>\n",
       "      <td>Credit card</td>\n",
       "      <td>324.31</td>\n",
       "      <td>4.761905</td>\n",
       "      <td>16.2155</td>\n",
       "      <td>7.4</td>\n",
       "    </tr>\n",
       "    <tr>\n",
       "      <th>3</th>\n",
       "      <td>123-19-1176</td>\n",
       "      <td>A</td>\n",
       "      <td>Yangon</td>\n",
       "      <td>Member</td>\n",
       "      <td>Male</td>\n",
       "      <td>Health and beauty</td>\n",
       "      <td>58.22</td>\n",
       "      <td>8</td>\n",
       "      <td>489.0480</td>\n",
       "      <td>1/27/2019</td>\n",
       "      <td>20:33</td>\n",
       "      <td>Ewallet</td>\n",
       "      <td>465.76</td>\n",
       "      <td>4.761905</td>\n",
       "      <td>23.2880</td>\n",
       "      <td>8.4</td>\n",
       "    </tr>\n",
       "    <tr>\n",
       "      <th>4</th>\n",
       "      <td>373-73-7910</td>\n",
       "      <td>A</td>\n",
       "      <td>Yangon</td>\n",
       "      <td>Normal</td>\n",
       "      <td>Male</td>\n",
       "      <td>Sports and travel</td>\n",
       "      <td>86.31</td>\n",
       "      <td>7</td>\n",
       "      <td>634.3785</td>\n",
       "      <td>2/8/2019</td>\n",
       "      <td>10:37</td>\n",
       "      <td>Ewallet</td>\n",
       "      <td>604.17</td>\n",
       "      <td>4.761905</td>\n",
       "      <td>30.2085</td>\n",
       "      <td>5.3</td>\n",
       "    </tr>\n",
       "    <tr>\n",
       "      <th>...</th>\n",
       "      <td>...</td>\n",
       "      <td>...</td>\n",
       "      <td>...</td>\n",
       "      <td>...</td>\n",
       "      <td>...</td>\n",
       "      <td>...</td>\n",
       "      <td>...</td>\n",
       "      <td>...</td>\n",
       "      <td>...</td>\n",
       "      <td>...</td>\n",
       "      <td>...</td>\n",
       "      <td>...</td>\n",
       "      <td>...</td>\n",
       "      <td>...</td>\n",
       "      <td>...</td>\n",
       "      <td>...</td>\n",
       "    </tr>\n",
       "    <tr>\n",
       "      <th>995</th>\n",
       "      <td>233-67-5758</td>\n",
       "      <td>C</td>\n",
       "      <td>Naypyitaw</td>\n",
       "      <td>Normal</td>\n",
       "      <td>Male</td>\n",
       "      <td>Health and beauty</td>\n",
       "      <td>40.35</td>\n",
       "      <td>1</td>\n",
       "      <td>42.3675</td>\n",
       "      <td>1/29/2019</td>\n",
       "      <td>13:46</td>\n",
       "      <td>Ewallet</td>\n",
       "      <td>40.35</td>\n",
       "      <td>4.761905</td>\n",
       "      <td>2.0175</td>\n",
       "      <td>6.2</td>\n",
       "    </tr>\n",
       "    <tr>\n",
       "      <th>996</th>\n",
       "      <td>303-96-2227</td>\n",
       "      <td>B</td>\n",
       "      <td>Mandalay</td>\n",
       "      <td>Normal</td>\n",
       "      <td>Female</td>\n",
       "      <td>Home and lifestyle</td>\n",
       "      <td>97.38</td>\n",
       "      <td>10</td>\n",
       "      <td>1022.4900</td>\n",
       "      <td>3/2/2019</td>\n",
       "      <td>17:16</td>\n",
       "      <td>Ewallet</td>\n",
       "      <td>973.80</td>\n",
       "      <td>4.761905</td>\n",
       "      <td>48.6900</td>\n",
       "      <td>4.4</td>\n",
       "    </tr>\n",
       "    <tr>\n",
       "      <th>997</th>\n",
       "      <td>727-02-1313</td>\n",
       "      <td>A</td>\n",
       "      <td>Yangon</td>\n",
       "      <td>Member</td>\n",
       "      <td>Male</td>\n",
       "      <td>Food and beverages</td>\n",
       "      <td>31.84</td>\n",
       "      <td>1</td>\n",
       "      <td>33.4320</td>\n",
       "      <td>2/9/2019</td>\n",
       "      <td>13:22</td>\n",
       "      <td>Cash</td>\n",
       "      <td>31.84</td>\n",
       "      <td>4.761905</td>\n",
       "      <td>1.5920</td>\n",
       "      <td>7.7</td>\n",
       "    </tr>\n",
       "    <tr>\n",
       "      <th>998</th>\n",
       "      <td>347-56-2442</td>\n",
       "      <td>A</td>\n",
       "      <td>Yangon</td>\n",
       "      <td>Normal</td>\n",
       "      <td>Male</td>\n",
       "      <td>Home and lifestyle</td>\n",
       "      <td>65.82</td>\n",
       "      <td>1</td>\n",
       "      <td>69.1110</td>\n",
       "      <td>2/22/2019</td>\n",
       "      <td>15:33</td>\n",
       "      <td>Cash</td>\n",
       "      <td>65.82</td>\n",
       "      <td>4.761905</td>\n",
       "      <td>3.2910</td>\n",
       "      <td>4.1</td>\n",
       "    </tr>\n",
       "    <tr>\n",
       "      <th>999</th>\n",
       "      <td>849-09-3807</td>\n",
       "      <td>A</td>\n",
       "      <td>Yangon</td>\n",
       "      <td>Member</td>\n",
       "      <td>Female</td>\n",
       "      <td>Fashion accessories</td>\n",
       "      <td>88.34</td>\n",
       "      <td>7</td>\n",
       "      <td>649.2990</td>\n",
       "      <td>2/18/2019</td>\n",
       "      <td>13:28</td>\n",
       "      <td>Cash</td>\n",
       "      <td>618.38</td>\n",
       "      <td>4.761905</td>\n",
       "      <td>30.9190</td>\n",
       "      <td>6.6</td>\n",
       "    </tr>\n",
       "  </tbody>\n",
       "</table>\n",
       "<p>1000 rows × 16 columns</p>\n",
       "</div>"
      ],
      "text/plain": [
       "      Invoice ID Branch       City Customer type  Gender  \\\n",
       "0    750-67-8428      A     Yangon        Member  Female   \n",
       "1    226-31-3081      C  Naypyitaw        Normal  Female   \n",
       "2    631-41-3108      A     Yangon        Normal    Male   \n",
       "3    123-19-1176      A     Yangon        Member    Male   \n",
       "4    373-73-7910      A     Yangon        Normal    Male   \n",
       "..           ...    ...        ...           ...     ...   \n",
       "995  233-67-5758      C  Naypyitaw        Normal    Male   \n",
       "996  303-96-2227      B   Mandalay        Normal  Female   \n",
       "997  727-02-1313      A     Yangon        Member    Male   \n",
       "998  347-56-2442      A     Yangon        Normal    Male   \n",
       "999  849-09-3807      A     Yangon        Member  Female   \n",
       "\n",
       "               Product line  Unit price  Quantity      Total       Date  \\\n",
       "0         Health and beauty       74.69         7   548.9715   1/5/2019   \n",
       "1    Electronic accessories       15.28         5    80.2200   3/8/2019   \n",
       "2        Home and lifestyle       46.33         7   340.5255   3/3/2019   \n",
       "3         Health and beauty       58.22         8   489.0480  1/27/2019   \n",
       "4         Sports and travel       86.31         7   634.3785   2/8/2019   \n",
       "..                      ...         ...       ...        ...        ...   \n",
       "995       Health and beauty       40.35         1    42.3675  1/29/2019   \n",
       "996      Home and lifestyle       97.38        10  1022.4900   3/2/2019   \n",
       "997      Food and beverages       31.84         1    33.4320   2/9/2019   \n",
       "998      Home and lifestyle       65.82         1    69.1110  2/22/2019   \n",
       "999     Fashion accessories       88.34         7   649.2990  2/18/2019   \n",
       "\n",
       "      Time      Payment    cogs  gross margin percentage  gross income  Rating  \n",
       "0    13:08      Ewallet  522.83                 4.761905       26.1415     9.1  \n",
       "1    10:29         Cash   76.40                 4.761905        3.8200     9.6  \n",
       "2    13:23  Credit card  324.31                 4.761905       16.2155     7.4  \n",
       "3    20:33      Ewallet  465.76                 4.761905       23.2880     8.4  \n",
       "4    10:37      Ewallet  604.17                 4.761905       30.2085     5.3  \n",
       "..     ...          ...     ...                      ...           ...     ...  \n",
       "995  13:46      Ewallet   40.35                 4.761905        2.0175     6.2  \n",
       "996  17:16      Ewallet  973.80                 4.761905       48.6900     4.4  \n",
       "997  13:22         Cash   31.84                 4.761905        1.5920     7.7  \n",
       "998  15:33         Cash   65.82                 4.761905        3.2910     4.1  \n",
       "999  13:28         Cash  618.38                 4.761905       30.9190     6.6  \n",
       "\n",
       "[1000 rows x 16 columns]"
      ]
     },
     "execution_count": 2,
     "metadata": {},
     "output_type": "execute_result"
    }
   ],
   "source": [
    "# Initial dataframe\n",
    "df = pd.read_csv('supermarket_sales.csv')\n",
    "df"
   ]
  },
  {
   "cell_type": "markdown",
   "id": "d98d75f1-1c9f-44f9-8d0a-2a24df33cb8e",
   "metadata": {},
   "source": [
    "**1. Preprocessing**"
   ]
  },
  {
   "cell_type": "code",
   "execution_count": 3,
   "id": "c00a3192-3ac6-44e5-97ab-9d466faf039b",
   "metadata": {
    "tags": []
   },
   "outputs": [
    {
     "data": {
      "image/png": "[encoded data removed]",
      "text/plain": [
       "<Figure size 1080x720 with 6 Axes>"
      ]
     },
     "metadata": {
      "needs_background": "light"
     },
     "output_type": "display_data"
    }
   ],
   "source": [
    "# Drop useless column\n",
    "df = df.drop('Invoice ID', axis=1)\n",
    "df = df.drop('gross margin percentage', axis=1)\n",
    "\n",
    "# 0. Monday, 1. Tuesday, 2. Wednesday, 3. Thursday 4. Friday, 5. Saturday, 6. Sunday\n",
    "day_of_week = pd.to_datetime(df['Date']).dt.day_of_week\n",
    "df['Date'] = day_of_week\n",
    "\n",
    "# 1. Morning (10:00 - 11:59), 2. Afternoon (12:00 - 16:59)\n",
    "# 3. Evening (17:00 - 18:59), 4. Night (19:00 - 23:59)\n",
    "hour = pd.to_datetime(df['Time']).dt.strftime('%H').astype('float')\n",
    "hour_cat = pd.cut(hour, bins=[0., 12.0, 17.0, 19.0, np.inf], labels=[1, 2, 3, 4])\n",
    "df['Time'] = hour_cat\n",
    "\n",
    "# Decide which scaler we use for numeric feature\n",
    "numeric_columns = ['Unit price', 'Quantity', 'Total', 'cogs', 'Rating', 'gross income']\n",
    "\n",
    "# Create a 2x3 grid of subplots\n",
    "fig, axes = plt.subplots(2, 3, figsize=(15, 10))\n",
    "\n",
    "# Plot histograms for each numeric column in subplots\n",
    "for i, column in enumerate(numeric_columns):\n",
    "    row, col = i // 3, i % 3  # Calculate the row and column for the current subplot\n",
    "    axes[row, col].hist(df[column], bins=20, edgecolor='black')\n",
    "    axes[row, col].set_xlabel(column)\n",
    "    axes[row, col].set_ylabel('Frequency')\n",
    "    axes[row, col].set_title(f'Histogram of {column}')\n",
    "    axes[row, col].grid(axis='y', linestyle='--', alpha=0.7)\n",
    "\n",
    "# Adjust spacing between subplots\n",
    "plt.tight_layout()"
   ]
  },
  {
   "cell_type": "markdown",
   "id": "cba49e10-245b-4888-a49c-2e3d7f54771a",
   "metadata": {},
   "source": [
    "By observing we choose to use the standard scaler as the encoder for the numerical column."
   ]
  },
  {
   "cell_type": "markdown",
   "id": "e3157c2f-adda-49ac-93fc-87e37040091e",
   "metadata": {},
   "source": [
    "**2. Gross Income**"
   ]
  },
  {
   "cell_type": "code",
   "execution_count": 4,
   "id": "5a93e241-f126-4bec-9359-165db8f75347",
   "metadata": {
    "tags": []
   },
   "outputs": [],
   "source": [
    "# Divide features by numerical or categorical \n",
    "categorical_gi_cols = ['Branch', 'City', 'Customer type', 'Gender', 'Product line', 'Date', 'Time', 'Payment']\n",
    "numeric_gi_cols = ['Unit price', 'Quantity', 'Total', 'cogs', 'Rating']\n",
    "\n",
    "# Create a ColumnTransformer to handle encoding which scales numerical and categorical data\n",
    "preprocessor_gi = Pipeline([\n",
    "    ('cat_num_transform', ColumnTransformer(\n",
    "        transformers=[\n",
    "            ('cat', OneHotEncoder(), categorical_gi_cols),\n",
    "            ('num', StandardScaler(), numeric_gi_cols)\n",
    "        ]\n",
    "    ))\n",
    "])"
   ]
  },
  {
   "cell_type": "markdown",
   "id": "e77a10b3-f3e1-458b-bd44-10b156a7fa5c",
   "metadata": {},
   "source": [
    "This transformer can be applied to the entire task of use regression to predict gross income."
   ]
  },
  {
   "cell_type": "code",
   "execution_count": 5,
   "id": "ab7e89fc-66c2-48dc-b0a5-5bc6208f3b7b",
   "metadata": {},
   "outputs": [],
   "source": [
    "# Split the dataset into features and the target variable\n",
    "X_gi = df.drop(columns=['gross income'])\n",
    "y_gi = df['gross income']\n",
    "\n",
    "# Split the data into training and testing sets\n",
    "X_gi_train, X_gi_test, y_gi_train, y_gi_test = train_test_split(X_gi, y_gi, test_size=0.2, \n",
    "                                                               random_state=42)\n",
    "X_gi_tra, X_gi_val, y_gi_tra, y_gi_val = train_test_split(X_gi_train, y_gi_train, \n",
    "                                                        test_size=0.3, random_state=42)\n",
    "# Load files to test.ipynb\n",
    "with open('X_gi_test.pkl', 'wb') as file:\n",
    "    pickle.dump(X_gi_test, file)\n",
    "with open('y_gi_test.pkl', 'wb') as file:\n",
    "    pickle.dump(y_gi_test, file)"
   ]
  },
  {
   "cell_type": "code",
   "execution_count": 6,
   "id": "9f3fc18a-d139-4765-b5fd-e5488909d558",
   "metadata": {},
   "outputs": [
    {
     "data": {
      "text/plain": [
       "['reg_gi.pkl']"
      ]
     },
     "execution_count": 6,
     "metadata": {},
     "output_type": "execute_result"
    }
   ],
   "source": [
    "# Create a pipeline that includes the preprocessing and regression model without regularization\n",
    "reg_gi = Pipeline([\n",
    "    ('preprocessor_gi', preprocessor_gi),\n",
    "    ('regressor_gi', LinearRegression())\n",
    "])\n",
    "\n",
    "# Train the regression model and load to test.ipynb\n",
    "reg_gi.fit(X_gi_tra, y_gi_tra)\n",
    "joblib.dump(reg_gi,'reg_gi.pkl')"
   ]
  },
  {
   "cell_type": "code",
   "execution_count": 7,
   "id": "a42ceb0c-aa17-4674-b4a8-8b00553a78d5",
   "metadata": {
    "tags": []
   },
   "outputs": [
    {
     "name": "stdout",
     "output_type": "stream",
     "text": [
      "Non zero features:\n",
      "                                Feature   Coefficient\n",
      "0                              Branch_A  1.127489e-05\n",
      "1                              Branch_B  7.540662e-01\n",
      "2                              Branch_C -2.881361e+00\n",
      "3                         City_Mandalay -5.050099e+00\n",
      "4                        City_Naypyitaw -1.414672e+00\n",
      "5                           City_Yangon -4.296045e+00\n",
      "6                  Customer type_Member  4.714645e-02\n",
      "7                  Customer type_Normal  4.714645e-02\n",
      "8                         Gender_Female -2.447277e-02\n",
      "9                           Gender_Male -2.447277e-02\n",
      "10  Product line_Electronic accessories -5.499474e-01\n",
      "11     Product line_Fashion accessories -5.499474e-01\n",
      "12      Product line_Food and beverages -5.499474e-01\n",
      "13       Product line_Health and beauty -5.499474e-01\n",
      "14      Product line_Home and lifestyle -5.499474e-01\n",
      "15       Product line_Sports and travel -5.499474e-01\n",
      "16                               Date_0  1.065053e+00\n",
      "17                               Date_1  1.065053e+00\n",
      "18                               Date_2  1.065053e+00\n",
      "19                               Date_3  1.065053e+00\n",
      "20                               Date_4  1.065053e+00\n",
      "21                               Date_5  1.065053e+00\n",
      "22                               Date_6  1.065053e+00\n",
      "23                               Time_1  6.141528e-02\n",
      "24                               Time_2  6.141528e-02\n",
      "25                               Time_3  6.141528e-02\n",
      "26                               Time_4  6.141528e-02\n",
      "27                         Payment_Cash  1.057884e-01\n",
      "28                  Payment_Credit card  1.057884e-01\n",
      "29                      Payment_Ewallet  1.057884e-01\n",
      "30                           Unit price -1.614834e-15\n",
      "31                             Quantity -1.222877e-15\n",
      "32                                Total  6.261186e+00\n",
      "33                                 cogs  5.450141e+00\n",
      "34                               Rating  4.163336e-17\n"
     ]
    }
   ],
   "source": [
    "# Get the coefficients of the Lasso regression model\n",
    "reg_coeffs = reg_gi.named_steps['regressor_gi'].coef_\n",
    "\n",
    "# Get the feature names\n",
    "categorical_feature_names = preprocessor_gi.named_steps['cat_num_transform'].named_transformers_['cat'].get_feature_names_out(input_features=categorical_gi_cols)\n",
    "feature_names = list(categorical_feature_names) + numeric_gi_cols\n",
    "\n",
    "# Create a DataFrame to display feature names and their coefficients\n",
    "reg_coeffs_df = pd.DataFrame({'Feature': feature_names, 'Coefficient': reg_coeffs})\n",
    "\n",
    "# Filter features with non-zero coefficients\n",
    "features = reg_coeffs_df[reg_coeffs_df['Coefficient'] != 0]\n",
    "print(\"Non zero features:\")\n",
    "print(features)"
   ]
  },
  {
   "cell_type": "markdown",
   "id": "0e507623-b1b9-4985-abdb-8853896b55a4",
   "metadata": {},
   "source": [
    "According to the value of each coefficient, the gross income is hardly affected by Unit price (-1.614834e-15) and Quantity (-1.222877 e-15) because the coefficients of both of them are very low. The feature Total has a high positive coefficient (6.261186e+00) which means it highly affects gross income."
   ]
  },
  {
   "cell_type": "code",
   "execution_count": 8,
   "id": "4d160aed-1427-4299-a9c7-4c36c43e1cbc",
   "metadata": {},
   "outputs": [
    {
     "name": "stdout",
     "output_type": "stream",
     "text": [
      "Best Lambda Value: 0.001\n"
     ]
    },
    {
     "data": {
      "text/plain": [
       "['lasso_gi.pkl']"
      ]
     },
     "execution_count": 8,
     "metadata": {},
     "output_type": "execute_result"
    }
   ],
   "source": [
    "# Create a pipeline that includes the preprocessing and regression model with Lasso regularization\n",
    "lasso_gi = Pipeline([\n",
    "    ('preprocessor_gi', preprocessor_gi),\n",
    "    ('lasso regressor_gi', Lasso())\n",
    "])\n",
    "\n",
    "# Grid search the best hyperparameter \n",
    "lambdas = [0.0001, 0.001, 0.01, 0.1, 1]\n",
    "param_grid = {'lasso regressor_gi__alpha': lambdas}\n",
    "grid_search = GridSearchCV(lasso_gi, param_grid, cv=5)\n",
    "grid_search.fit(X_gi_val, y_gi_val)\n",
    "\n",
    "# Get the best lambda value\n",
    "best_alpha = grid_search.best_params_['lasso regressor_gi__alpha']\n",
    "print(\"Best Lambda Value:\", best_alpha)\n",
    "\n",
    "# Apply to model\n",
    "lasso_gi = Pipeline([\n",
    "    ('preprocessor_gi', preprocessor_gi),\n",
    "    ('lasso regressor_gi', Lasso(alpha=best_alpha))\n",
    "])\n",
    "\n",
    "# Train the regression model with regularization and load to test.ipynb\n",
    "lasso_gi.fit(X_gi_train, y_gi_train)\n",
    "joblib.dump(lasso_gi,'lasso_gi.pkl')"
   ]
  },
  {
   "cell_type": "code",
   "execution_count": 9,
   "id": "a3550668-2d35-4e4c-be96-473950e7b6c5",
   "metadata": {
    "tags": []
   },
   "outputs": [
    {
     "name": "stdout",
     "output_type": "stream",
     "text": [
      "Non zero features:\n",
      "       Feature  Coefficient\n",
      "30  Unit price     0.002865\n",
      "31    Quantity     0.003360\n",
      "32       Total    11.577620\n"
     ]
    }
   ],
   "source": [
    "# Get the coefficients of the Lasso regression model\n",
    "lasso_coeffs = lasso_gi.named_steps['lasso regressor_gi'].coef_\n",
    "\n",
    "# Get the feature names\n",
    "categorical_feature_names = preprocessor_gi.named_steps['cat_num_transform'].named_transformers_['cat'].get_feature_names_out(input_features=categorical_gi_cols)\n",
    "feature_names = list(categorical_feature_names) + numeric_gi_cols\n",
    "\n",
    "# Create a DataFrame to display feature names and their coefficients\n",
    "lasso_coeffs_df = pd.DataFrame({'Feature': feature_names, 'Coefficient': lasso_coeffs})\n",
    "\n",
    "# Filter features with non-zero coefficients\n",
    "features = lasso_coeffs_df[lasso_coeffs_df['Coefficient'] != 0]\n",
    "print(\"Non zero features:\")\n",
    "print(features)"
   ]
  },
  {
   "cell_type": "markdown",
   "id": "f1bcbd06-9bfc-4485-8833-1581ac1b6a4c",
   "metadata": {},
   "source": [
    "The non-zero coefficients of the model are only Unit price, Quantity and Total. Other features ('Branch', 'City', 'Customer type', 'Gender', 'Product line', 'Date', 'Time', 'Payment', 'cogs', 'Rating') are all excluded."
   ]
  },
  {
   "cell_type": "markdown",
   "id": "a424cacc-6da7-4d6e-885b-a69d4f7890e9",
   "metadata": {
    "tags": []
   },
   "source": [
    "**3. Unit Price**"
   ]
  },
  {
   "cell_type": "code",
   "execution_count": 10,
   "id": "12fd1ea5-d0d7-460a-b65f-ddd3a30cb9dc",
   "metadata": {},
   "outputs": [],
   "source": [
    "# Divide features by numerical or categorical\n",
    "categorical_up_cols = ['Branch', 'City', 'Customer type', 'Gender', 'Product line', 'Date', 'Time', 'Payment']\n",
    "numeric_up_cols = ['Quantity', 'Total', 'cogs', 'gross income', 'Rating']\n",
    "\n",
    "# Create a ColumnTransformer to handle encoding which scales numerical and categorical data\n",
    "preprocessor_up = Pipeline([\n",
    "    ('cat_num_transform', ColumnTransformer(\n",
    "        transformers=[\n",
    "            ('cat', OneHotEncoder(), categorical_up_cols),\n",
    "            ('num', StandardScaler(), numeric_up_cols)\n",
    "        ]\n",
    "    ))\n",
    "])"
   ]
  },
  {
   "cell_type": "markdown",
   "id": "07ec0a18-b378-49e0-bc8f-b00f0b50a5af",
   "metadata": {},
   "source": [
    "This transformer can be applied to the entire task of use regression to predict unit price."
   ]
  },
  {
   "cell_type": "code",
   "execution_count": 12,
   "id": "da158ec1-be59-4812-8622-b614a901de24",
   "metadata": {
    "tags": []
   },
   "outputs": [],
   "source": [
    "# Split the dataset into features and the target variable\n",
    "X_up = df.drop(columns=['Unit price'])\n",
    "y_up = df['Unit price']\n",
    "\n",
    "# Split the data into training and testing sets\n",
    "X_up_train, X_up_test, y_up_train, y_up_test = train_test_split(X_up, y_up, test_size=0.2, \n",
    "                                                                random_state=42)\n",
    "X_up_tra, X_up_val, y_up_tra, y_up_val = train_test_split(X_up_train, y_up_train, test_size=0.3, \n",
    "                                                                random_state=42)\n",
    "# Load test set to test.ipynb\n",
    "with open('X_up_test.pkl', 'wb') as file:\n",
    "    pickle.dump(X_up_test, file)\n",
    "with open('y_up_test.pkl', 'wb') as file:\n",
    "    pickle.dump(y_up_test, file)"
   ]
  },
  {
   "cell_type": "code",
   "execution_count": 13,
   "id": "6b3a1460-0ab2-41f3-8a44-452073f415a3",
   "metadata": {},
   "outputs": [
    {
     "data": {
      "text/plain": [
       "['reg_up.pkl']"
      ]
     },
     "execution_count": 13,
     "metadata": {},
     "output_type": "execute_result"
    }
   ],
   "source": [
    "# Create a pipeline that includes the preprocessing and regression model without regularization\n",
    "reg_up = Pipeline([\n",
    "    ('preprocessor_up', preprocessor_up),\n",
    "    ('regressor_up', LinearRegression())\n",
    "])\n",
    "\n",
    "# Train the regression model without regularization and load to test.ipynb\n",
    "reg_up.fit(X_up_tra, y_up_tra)\n",
    "joblib.dump(reg_up,'reg_up.pkl')"
   ]
  },
  {
   "cell_type": "code",
   "execution_count": 14,
   "id": "09bf83df-ae15-4cf7-933d-c193034720f7",
   "metadata": {
    "tags": []
   },
   "outputs": [
    {
     "name": "stdout",
     "output_type": "stream",
     "text": [
      "Non zero features:\n",
      "                                Feature   Coefficient\n",
      "0                              Branch_A -7.630133e+10\n",
      "1                              Branch_B  2.212135e+13\n",
      "2                              Branch_C  5.471884e+12\n",
      "3                         City_Mandalay -2.832537e+13\n",
      "4                        City_Naypyitaw -1.167590e+13\n",
      "5                           City_Yangon -6.127720e+12\n",
      "6                  Customer type_Member  2.538695e+11\n",
      "7                  Customer type_Normal  2.538695e+11\n",
      "8                         Gender_Female -3.181392e+12\n",
      "9                           Gender_Male -3.181392e+12\n",
      "10  Product line_Electronic accessories  3.551297e+12\n",
      "11     Product line_Fashion accessories  3.551297e+12\n",
      "12      Product line_Food and beverages  3.551297e+12\n",
      "13       Product line_Health and beauty  3.551297e+12\n",
      "14      Product line_Home and lifestyle  3.551297e+12\n",
      "15       Product line_Sports and travel  3.551297e+12\n",
      "16                               Date_0  1.220322e+13\n",
      "17                               Date_1  1.220322e+13\n",
      "18                               Date_2  1.220322e+13\n",
      "19                               Date_3  1.220322e+13\n",
      "20                               Date_4  1.220322e+13\n",
      "21                               Date_5  1.220322e+13\n",
      "22                               Date_6  1.220322e+13\n",
      "23                               Time_1  1.974419e+12\n",
      "24                               Time_2  1.974419e+12\n",
      "25                               Time_3  1.974419e+12\n",
      "26                               Time_4  1.974419e+12\n",
      "27                         Payment_Cash  1.522590e+13\n",
      "28                  Payment_Credit card  1.522590e+13\n",
      "29                      Payment_Ewallet  1.522590e+13\n",
      "30                             Quantity -2.295876e+01\n",
      "31                                Total -1.115340e+12\n",
      "32                                 cogs -2.398122e+12\n",
      "33                         gross income  3.513463e+12\n",
      "34                               Rating  4.455566e-01\n"
     ]
    }
   ],
   "source": [
    "# Get the coefficients of the Lasso regression model\n",
    "reg_coeffs = reg_up.named_steps['regressor_up'].coef_\n",
    "\n",
    "# Get the feature names\n",
    "categorical_feature_names = preprocessor_up.named_steps['cat_num_transform'].named_transformers_['cat'].get_feature_names_out(input_features=categorical_up_cols)\n",
    "feature_names = list(categorical_feature_names) + numeric_up_cols\n",
    "\n",
    "# Create a DataFrame to display feature names and their coefficients\n",
    "reg_coeffs_df = pd.DataFrame({'Feature': feature_names, 'Coefficient': reg_coeffs})\n",
    "\n",
    "# Filter features with non-zero coefficients\n",
    "features = reg_coeffs_df[reg_coeffs_df['Coefficient'] != 0]\n",
    "print(\"Non zero features:\")\n",
    "print(features)"
   ]
  },
  {
   "cell_type": "markdown",
   "id": "bc07d72f-cfff-42d3-abe8-92786ac6d4ee",
   "metadata": {},
   "source": [
    "Except for Quantity and Rating, other features have extremely high coefficients. Gross income (3.513463e+12) has a huge coefficient, while Quantity (-2.295876e+01) has a relatively low coefficient."
   ]
  },
  {
   "cell_type": "code",
   "execution_count": 15,
   "id": "37032ccc-e227-4395-ad43-0192bd4237a7",
   "metadata": {
    "tags": []
   },
   "outputs": [
    {
     "name": "stdout",
     "output_type": "stream",
     "text": [
      "Best Lambda Value: 1\n"
     ]
    },
    {
     "data": {
      "text/plain": [
       "['lasso_up.pkl']"
      ]
     },
     "execution_count": 15,
     "metadata": {},
     "output_type": "execute_result"
    }
   ],
   "source": [
    "# Create a pipeline that includes the preprocessing and regression model with Lasso regularization\n",
    "lasso_up = Pipeline([\n",
    "    ('preprocessor_up', preprocessor_up),\n",
    "    ('lasso regressor_up', Lasso())\n",
    "])\n",
    "\n",
    "# Grid search the best hyperparameter \n",
    "lambdas = [0.001, 0.01, 0.1, 1, 10]\n",
    "param_grid = {'lasso regressor_up__alpha': lambdas}\n",
    "grid_search = GridSearchCV(lasso_up, param_grid, cv=5) \n",
    "grid_search.fit(X_up_val, y_up_val)\n",
    "\n",
    "# Get the best lambda value\n",
    "best_alpha = grid_search.best_params_['lasso regressor_up__alpha']\n",
    "print(\"Best Lambda Value:\", best_alpha)\n",
    "\n",
    "# Apply to model\n",
    "lasso_up = Pipeline([\n",
    "    ('preprocessor_up', preprocessor_up),\n",
    "    ('lasso regressor_up', Lasso(alpha=best_alpha))\n",
    "])\n",
    "\n",
    "# Train the regression model with regularization and load to test.ipynb\n",
    "lasso_up.fit(X_up_train, y_up_train)\n",
    "joblib.dump(lasso_up,'lasso_up.pkl')"
   ]
  },
  {
   "cell_type": "code",
   "execution_count": 16,
   "id": "7a2ac29d-6c57-4bc6-ade0-659c3e4358c1",
   "metadata": {
    "tags": []
   },
   "outputs": [
    {
     "name": "stdout",
     "output_type": "stream",
     "text": [
      "Non-zero features:\n",
      "     Feature  Coefficient\n",
      "30  Quantity   -19.653822\n",
      "31     Total    29.130228\n"
     ]
    }
   ],
   "source": [
    "# Get the coefficients of the Lasso regression model\n",
    "lasso_coeffs = lasso_up.named_steps['lasso regressor_up'].coef_\n",
    "\n",
    "# Get the feature names\n",
    "categorical_feature_names = preprocessor_up.named_steps['cat_num_transform'].named_transformers_['cat'].get_feature_names_out(input_features=categorical_up_cols)\n",
    "feature_names = list(categorical_feature_names) + numeric_up_cols\n",
    "\n",
    "# Create a DataFrame to display feature names and their coefficients\n",
    "lasso_coeffs_df = pd.DataFrame({'Feature': feature_names, 'Coefficient': lasso_coeffs})\n",
    "\n",
    "# Filter features with non-zero coefficients\n",
    "features = lasso_coeffs_df[lasso_coeffs_df['Coefficient'] != 0]\n",
    "print(\"Non-zero features:\")\n",
    "print(features)"
   ]
  },
  {
   "cell_type": "markdown",
   "id": "ef2679dc-7909-467d-af59-ad4cc6ceb1b3",
   "metadata": {},
   "source": [
    "Only Quantity and Total are retained, and the remaining features ('Branch', 'City', 'Customer type', 'Gender', 'Product line', 'Date', 'Time', 'Payment', 'cogs', 'gross income', 'Rating' ) are excluded."
   ]
  },
  {
   "cell_type": "markdown",
   "id": "e17640e7-ad09-4507-ad7b-28aef2ba30f2",
   "metadata": {},
   "source": [
    "**4. Gender**"
   ]
  },
  {
   "cell_type": "code",
   "execution_count": 17,
   "id": "8e91004d-a1ea-41f9-8c2d-87cc2410d4a9",
   "metadata": {
    "tags": []
   },
   "outputs": [],
   "source": [
    "# Divide features by numerical or categorical \n",
    "categorical_g_cols = ['Product line', 'Payment']\n",
    "numeric_g_cols = ['gross income']\n",
    "\n",
    "# Create a ColumnTransformer to handle encoding which scales numerical and categorical data\n",
    "preprocessor_g = Pipeline([\n",
    "    ('cat_num_transform', ColumnTransformer(\n",
    "        transformers=[\n",
    "            ('cat', OrdinalEncoder(), categorical_g_cols),\n",
    "            ('num', StandardScaler(), numeric_g_cols)\n",
    "        ]\n",
    "    ))\n",
    "])"
   ]
  },
  {
   "cell_type": "markdown",
   "id": "f4178813-fc0b-461b-b2c9-f3722036ffdb",
   "metadata": {
    "tags": []
   },
   "source": [
    "This transformer can be applied to the entire task of use classification to predict gender."
   ]
  },
  {
   "cell_type": "code",
   "execution_count": 18,
   "id": "0744340a-8f76-47eb-aa3e-cd21f465719b",
   "metadata": {
    "tags": []
   },
   "outputs": [
    {
     "data": {
      "text/plain": [
       "[array(['Female', 'Male'], dtype=object)]"
      ]
     },
     "execution_count": 18,
     "metadata": {},
     "output_type": "execute_result"
    }
   ],
   "source": [
    "# Split the dataset into features and the target variable\n",
    "df_c = df[df['Branch'] == 'C']\n",
    "X_g = df_c[['Product line', 'Payment', 'gross income']] \n",
    "cat_enc = OrdinalEncoder()\n",
    "y_g = cat_enc.fit_transform(df_c[['Gender']]).ravel()\n",
    "\n",
    "# Split the data into training and testing sets\n",
    "X_g_train, X_g_test, y_g_train, y_g_test = train_test_split(X_g, y_g, test_size=0.2, stratify=y_g,\n",
    "                                                            random_state=42)\n",
    "X_g_tra, X_g_val, y_g_tra, y_g_val = train_test_split(X_g_train, y_g_train, test_size=0.3, stratify=y_g_train,\n",
    "                                                            random_state=42)\n",
    "# Load test sets to test.ipynb\n",
    "with open('X_g_test.pkl', 'wb') as file:\n",
    "    pickle.dump(X_g_test, file)\n",
    "with open('y_g_test.pkl', 'wb') as file:\n",
    "    pickle.dump(y_g_test, file)\n",
    "    \n",
    "male = df_c[df_c['Gender'] == 'Male']\n",
    "with open('male.pkl', 'wb') as file:\n",
    "    pickle.dump(male, file)\n",
    "    \n",
    "cat_enc.categories_"
   ]
  },
  {
   "cell_type": "markdown",
   "id": "38314d21-4408-43b1-a0f4-7ec3da3a15af",
   "metadata": {},
   "source": [
    "0 represent 'Female', 1 represent 'Male'"
   ]
  },
  {
   "cell_type": "code",
   "execution_count": 19,
   "id": "b869ba68-4d63-4546-b2a8-65e30c2a3779",
   "metadata": {},
   "outputs": [
    {
     "data": {
      "text/html": [
       "<style>#sk-container-id-1 {color: black;background-color: white;}#sk-container-id-1 pre{padding: 0;}#sk-container-id-1 div.sk-toggleable {background-color: white;}#sk-container-id-1 label.sk-toggleable__label {cursor: pointer;display: block;width: 100%;margin-bottom: 0;padding: 0.3em;box-sizing: border-box;text-align: center;}#sk-container-id-1 label.sk-toggleable__label-arrow:before {content: \"▸\";float: left;margin-right: 0.25em;color: #696969;}#sk-container-id-1 label.sk-toggleable__label-arrow:hover:before {color: black;}#sk-container-id-1 div.sk-estimator:hover label.sk-toggleable__label-arrow:before {color: black;}#sk-container-id-1 div.sk-toggleable__content {max-height: 0;max-width: 0;overflow: hidden;text-align: left;background-color: #f0f8ff;}#sk-container-id-1 div.sk-toggleable__content pre {margin: 0.2em;color: black;border-radius: 0.25em;background-color: #f0f8ff;}#sk-container-id-1 input.sk-toggleable__control:checked~div.sk-toggleable__content {max-height: 200px;max-width: 100%;overflow: auto;}#sk-container-id-1 input.sk-toggleable__control:checked~label.sk-toggleable__label-arrow:before {content: \"▾\";}#sk-container-id-1 div.sk-estimator input.sk-toggleable__control:checked~label.sk-toggleable__label {background-color: #d4ebff;}#sk-container-id-1 div.sk-label input.sk-toggleable__control:checked~label.sk-toggleable__label {background-color: #d4ebff;}#sk-container-id-1 input.sk-hidden--visually {border: 0;clip: rect(1px 1px 1px 1px);clip: rect(1px, 1px, 1px, 1px);height: 1px;margin: -1px;overflow: hidden;padding: 0;position: absolute;width: 1px;}#sk-container-id-1 div.sk-estimator {font-family: monospace;background-color: #f0f8ff;border: 1px dotted black;border-radius: 0.25em;box-sizing: border-box;margin-bottom: 0.5em;}#sk-container-id-1 div.sk-estimator:hover {background-color: #d4ebff;}#sk-container-id-1 div.sk-parallel-item::after {content: \"\";width: 100%;border-bottom: 1px solid gray;flex-grow: 1;}#sk-container-id-1 div.sk-label:hover label.sk-toggleable__label {background-color: #d4ebff;}#sk-container-id-1 div.sk-serial::before {content: \"\";position: absolute;border-left: 1px solid gray;box-sizing: border-box;top: 0;bottom: 0;left: 50%;z-index: 0;}#sk-container-id-1 div.sk-serial {display: flex;flex-direction: column;align-items: center;background-color: white;padding-right: 0.2em;padding-left: 0.2em;position: relative;}#sk-container-id-1 div.sk-item {position: relative;z-index: 1;}#sk-container-id-1 div.sk-parallel {display: flex;align-items: stretch;justify-content: center;background-color: white;position: relative;}#sk-container-id-1 div.sk-item::before, #sk-container-id-1 div.sk-parallel-item::before {content: \"\";position: absolute;border-left: 1px solid gray;box-sizing: border-box;top: 0;bottom: 0;left: 50%;z-index: -1;}#sk-container-id-1 div.sk-parallel-item {display: flex;flex-direction: column;z-index: 1;position: relative;background-color: white;}#sk-container-id-1 div.sk-parallel-item:first-child::after {align-self: flex-end;width: 50%;}#sk-container-id-1 div.sk-parallel-item:last-child::after {align-self: flex-start;width: 50%;}#sk-container-id-1 div.sk-parallel-item:only-child::after {width: 0;}#sk-container-id-1 div.sk-dashed-wrapped {border: 1px dashed gray;margin: 0 0.4em 0.5em 0.4em;box-sizing: border-box;padding-bottom: 0.4em;background-color: white;}#sk-container-id-1 div.sk-label label {font-family: monospace;font-weight: bold;display: inline-block;line-height: 1.2em;}#sk-container-id-1 div.sk-label-container {text-align: center;}#sk-container-id-1 div.sk-container {/* jupyter's `normalize.less` sets `[hidden] { display: none; }` but bootstrap.min.css set `[hidden] { display: none !important; }` so we also need the `!important` here to be able to override the default hidden behavior on the sphinx rendered scikit-learn.org. See: https://github.com/scikit-learn/scikit-learn/issues/21755 */display: inline-block !important;position: relative;}#sk-container-id-1 div.sk-text-repr-fallback {display: none;}</style><div id=\"sk-container-id-1\" class=\"sk-top-container\"><div class=\"sk-text-repr-fallback\"><pre>Pipeline(steps=[(&#x27;preprocessor_g&#x27;,\n",
       "                 Pipeline(steps=[(&#x27;cat_num_transform&#x27;,\n",
       "                                  ColumnTransformer(transformers=[(&#x27;cat&#x27;,\n",
       "                                                                   OrdinalEncoder(),\n",
       "                                                                   [&#x27;Product &#x27;\n",
       "                                                                    &#x27;line&#x27;,\n",
       "                                                                    &#x27;Payment&#x27;]),\n",
       "                                                                  (&#x27;num&#x27;,\n",
       "                                                                   StandardScaler(),\n",
       "                                                                   [&#x27;gross &#x27;\n",
       "                                                                    &#x27;income&#x27;])]))])),\n",
       "                (&#x27;poly_feat&#x27;, PolynomialFeatures(interaction_only=True)),\n",
       "                (&#x27;classifier&#x27;, LogisticRegression(random_state=42, tol=2))])</pre><b>In a Jupyter environment, please rerun this cell to show the HTML representation or trust the notebook. <br />On GitHub, the HTML representation is unable to render, please try loading this page with nbviewer.org.</b></div><div class=\"sk-container\" hidden><div class=\"sk-item sk-dashed-wrapped\"><div class=\"sk-label-container\"><div class=\"sk-label sk-toggleable\"><input class=\"sk-toggleable__control sk-hidden--visually\" id=\"sk-estimator-id-1\" type=\"checkbox\" ><label for=\"sk-estimator-id-1\" class=\"sk-toggleable__label sk-toggleable__label-arrow\">Pipeline</label><div class=\"sk-toggleable__content\"><pre>Pipeline(steps=[(&#x27;preprocessor_g&#x27;,\n",
       "                 Pipeline(steps=[(&#x27;cat_num_transform&#x27;,\n",
       "                                  ColumnTransformer(transformers=[(&#x27;cat&#x27;,\n",
       "                                                                   OrdinalEncoder(),\n",
       "                                                                   [&#x27;Product &#x27;\n",
       "                                                                    &#x27;line&#x27;,\n",
       "                                                                    &#x27;Payment&#x27;]),\n",
       "                                                                  (&#x27;num&#x27;,\n",
       "                                                                   StandardScaler(),\n",
       "                                                                   [&#x27;gross &#x27;\n",
       "                                                                    &#x27;income&#x27;])]))])),\n",
       "                (&#x27;poly_feat&#x27;, PolynomialFeatures(interaction_only=True)),\n",
       "                (&#x27;classifier&#x27;, LogisticRegression(random_state=42, tol=2))])</pre></div></div></div><div class=\"sk-serial\"><div class=\"sk-item\"><div class=\"sk-label-container\"><div class=\"sk-label sk-toggleable\"><input class=\"sk-toggleable__control sk-hidden--visually\" id=\"sk-estimator-id-2\" type=\"checkbox\" ><label for=\"sk-estimator-id-2\" class=\"sk-toggleable__label sk-toggleable__label-arrow\">preprocessor_g: Pipeline</label><div class=\"sk-toggleable__content\"><pre>Pipeline(steps=[(&#x27;cat_num_transform&#x27;,\n",
       "                 ColumnTransformer(transformers=[(&#x27;cat&#x27;, OrdinalEncoder(),\n",
       "                                                  [&#x27;Product line&#x27;, &#x27;Payment&#x27;]),\n",
       "                                                 (&#x27;num&#x27;, StandardScaler(),\n",
       "                                                  [&#x27;gross income&#x27;])]))])</pre></div></div></div><div class=\"sk-serial\"><div class=\"sk-item sk-dashed-wrapped\"><div class=\"sk-label-container\"><div class=\"sk-label sk-toggleable\"><input class=\"sk-toggleable__control sk-hidden--visually\" id=\"sk-estimator-id-3\" type=\"checkbox\" ><label for=\"sk-estimator-id-3\" class=\"sk-toggleable__label sk-toggleable__label-arrow\">cat_num_transform: ColumnTransformer</label><div class=\"sk-toggleable__content\"><pre>ColumnTransformer(transformers=[(&#x27;cat&#x27;, OrdinalEncoder(),\n",
       "                                 [&#x27;Product line&#x27;, &#x27;Payment&#x27;]),\n",
       "                                (&#x27;num&#x27;, StandardScaler(), [&#x27;gross income&#x27;])])</pre></div></div></div><div class=\"sk-parallel\"><div class=\"sk-parallel-item\"><div class=\"sk-item\"><div class=\"sk-label-container\"><div class=\"sk-label sk-toggleable\"><input class=\"sk-toggleable__control sk-hidden--visually\" id=\"sk-estimator-id-4\" type=\"checkbox\" ><label for=\"sk-estimator-id-4\" class=\"sk-toggleable__label sk-toggleable__label-arrow\">cat</label><div class=\"sk-toggleable__content\"><pre>[&#x27;Product line&#x27;, &#x27;Payment&#x27;]</pre></div></div></div><div class=\"sk-serial\"><div class=\"sk-item\"><div class=\"sk-estimator sk-toggleable\"><input class=\"sk-toggleable__control sk-hidden--visually\" id=\"sk-estimator-id-5\" type=\"checkbox\" ><label for=\"sk-estimator-id-5\" class=\"sk-toggleable__label sk-toggleable__label-arrow\">OrdinalEncoder</label><div class=\"sk-toggleable__content\"><pre>OrdinalEncoder()</pre></div></div></div></div></div></div><div class=\"sk-parallel-item\"><div class=\"sk-item\"><div class=\"sk-label-container\"><div class=\"sk-label sk-toggleable\"><input class=\"sk-toggleable__control sk-hidden--visually\" id=\"sk-estimator-id-6\" type=\"checkbox\" ><label for=\"sk-estimator-id-6\" class=\"sk-toggleable__label sk-toggleable__label-arrow\">num</label><div class=\"sk-toggleable__content\"><pre>[&#x27;gross income&#x27;]</pre></div></div></div><div class=\"sk-serial\"><div class=\"sk-item\"><div class=\"sk-estimator sk-toggleable\"><input class=\"sk-toggleable__control sk-hidden--visually\" id=\"sk-estimator-id-7\" type=\"checkbox\" ><label for=\"sk-estimator-id-7\" class=\"sk-toggleable__label sk-toggleable__label-arrow\">StandardScaler</label><div class=\"sk-toggleable__content\"><pre>StandardScaler()</pre></div></div></div></div></div></div></div></div></div></div><div class=\"sk-item\"><div class=\"sk-estimator sk-toggleable\"><input class=\"sk-toggleable__control sk-hidden--visually\" id=\"sk-estimator-id-8\" type=\"checkbox\" ><label for=\"sk-estimator-id-8\" class=\"sk-toggleable__label sk-toggleable__label-arrow\">PolynomialFeatures</label><div class=\"sk-toggleable__content\"><pre>PolynomialFeatures(interaction_only=True)</pre></div></div></div><div class=\"sk-item\"><div class=\"sk-estimator sk-toggleable\"><input class=\"sk-toggleable__control sk-hidden--visually\" id=\"sk-estimator-id-9\" type=\"checkbox\" ><label for=\"sk-estimator-id-9\" class=\"sk-toggleable__label sk-toggleable__label-arrow\">LogisticRegression</label><div class=\"sk-toggleable__content\"><pre>LogisticRegression(random_state=42, tol=2)</pre></div></div></div></div></div></div></div>"
      ],
      "text/plain": [
       "Pipeline(steps=[('preprocessor_g',\n",
       "                 Pipeline(steps=[('cat_num_transform',\n",
       "                                  ColumnTransformer(transformers=[('cat',\n",
       "                                                                   OrdinalEncoder(),\n",
       "                                                                   ['Product '\n",
       "                                                                    'line',\n",
       "                                                                    'Payment']),\n",
       "                                                                  ('num',\n",
       "                                                                   StandardScaler(),\n",
       "                                                                   ['gross '\n",
       "                                                                    'income'])]))])),\n",
       "                ('poly_feat', PolynomialFeatures(interaction_only=True)),\n",
       "                ('classifier', LogisticRegression(random_state=42, tol=2))])"
      ]
     },
     "execution_count": 19,
     "metadata": {},
     "output_type": "execute_result"
    }
   ],
   "source": [
    "# Train a logistic regression model with interaction 2 degree\n",
    "log_g = Pipeline([\n",
    "    ('preprocessor_g', preprocessor_g),\n",
    "    ('poly_feat', PolynomialFeatures(degree=2, interaction_only=True)),\n",
    "    ('classifier', LogisticRegression(tol=2, fit_intercept=True, random_state=42))\n",
    "])\n",
    "log_g.fit(X_g_tra, y_g_tra)"
   ]
  },
  {
   "cell_type": "code",
   "execution_count": 20,
   "id": "33c8b555-f199-4322-b58b-cf47e83e7d7b",
   "metadata": {
    "tags": []
   },
   "outputs": [
    {
     "name": "stdout",
     "output_type": "stream",
     "text": [
      "Best C: 0.0001\n"
     ]
    },
    {
     "data": {
      "text/plain": [
       "['log_g.pkl']"
      ]
     },
     "execution_count": 20,
     "metadata": {},
     "output_type": "execute_result"
    }
   ],
   "source": [
    "# Define hyperparameter grid for grid search\n",
    "param_grid = {\n",
    "    'classifier__C': [0.0001, 0.001, 0.01, 0.1, 1, 10],\n",
    "}\n",
    "\n",
    "# Grid search the best hyperparameter \n",
    "grid_search = GridSearchCV(log_g, param_grid, cv=5, scoring='accuracy')\n",
    "grid_search.fit(X_g_val, y_g_val)\n",
    "best_params = grid_search.best_params_\n",
    "best_C = best_params['classifier__C']\n",
    "print(\"Best C:\", best_C)\n",
    "\n",
    "# Apply the best hyperparameters\n",
    "log_g = Pipeline([\n",
    "    ('preprocessor_g', preprocessor_g),\n",
    "    ('poly_feat', PolynomialFeatures(degree=2, interaction_only=True)),\n",
    "    ('classifier', LogisticRegression(tol=2, fit_intercept=True,  \n",
    "                                      C=best_C,\n",
    "                                      random_state=42))\n",
    "])\n",
    "\n",
    "# Train final model and load to test.ipynb\n",
    "log_g.fit(X_g_train, y_g_train)\n",
    "joblib.dump(log_g,'log_g.pkl')"
   ]
  },
  {
   "cell_type": "markdown",
   "id": "08c6983f-a14e-4a62-aadf-6c14e83a0318",
   "metadata": {},
   "source": [
    "**5. Customer Type**"
   ]
  },
  {
   "cell_type": "code",
   "execution_count": 21,
   "id": "b7a653fd-81e1-4802-96df-78f6ca64edae",
   "metadata": {},
   "outputs": [],
   "source": [
    "# Divide features by numerical or categorical \n",
    "categorical_ct_cols = ['Gender', 'Date', 'Time']\n",
    "\n",
    "# Create a ColumnTransformer to handle encoding which scales numerical and categorical data\n",
    "preprocessor_ct = Pipeline([\n",
    "    ('cat_num_transform', ColumnTransformer(\n",
    "        transformers=[\n",
    "            ('cat', OrdinalEncoder(), categorical_ct_cols)\n",
    "        ]\n",
    "    ))\n",
    "])"
   ]
  },
  {
   "cell_type": "markdown",
   "id": "f8a4dac5-32d8-4476-aeb7-89f61e271b07",
   "metadata": {
    "tags": []
   },
   "source": [
    "This transformer can be applied to the entire task of use classification to predict customer type."
   ]
  },
  {
   "cell_type": "code",
   "execution_count": 24,
   "id": "15600766-d7d2-42a9-877d-20ca26ddb839",
   "metadata": {},
   "outputs": [
    {
     "data": {
      "text/plain": [
       "[array(['Member', 'Normal'], dtype=object)]"
      ]
     },
     "execution_count": 24,
     "metadata": {},
     "output_type": "execute_result"
    }
   ],
   "source": [
    "# Split the dataset into features and the target variable\n",
    "df_c = df[df['Branch'] == 'C']\n",
    "X_ct = df_c[['Gender', 'Date', 'Time']] \n",
    "cat_enc = OrdinalEncoder()\n",
    "y_ct = cat_enc.fit_transform(df_c[['Customer type']]).ravel()\n",
    "\n",
    "# Split the data into training and testing sets\n",
    "X_ct_train, X_ct_test, y_ct_train, y_ct_test = train_test_split(X_ct, y_ct, test_size=0.2, \n",
    "                                                            random_state=42)\n",
    "X_ct_tra, X_ct_val, y_ct_tra, y_ct_val = train_test_split(X_ct_train, y_ct_train, test_size=0.3, \n",
    "                                                            random_state=42)\n",
    "# Load test sets to test.ipynb\n",
    "with open('X_ct_test.pkl', 'wb') as file:\n",
    "    pickle.dump(X_ct_test, file)\n",
    "with open('y_ct_test.pkl', 'wb') as file:\n",
    "    pickle.dump(y_ct_test, file)\n",
    "    \n",
    "normal = df_c[df_c['Customer type'] == 'Normal']\n",
    "with open('normal.pkl', 'wb') as file:\n",
    "    pickle.dump(normal, file)\n",
    "\n",
    "cat_enc.categories_"
   ]
  },
  {
   "cell_type": "markdown",
   "id": "47fb72e3-0679-46df-b221-2ccd1c44a43c",
   "metadata": {},
   "source": [
    "0 represent 'Member', 1 represent 'Normal'"
   ]
  },
  {
   "cell_type": "code",
   "execution_count": 25,
   "id": "82c4aa49-a63c-46d9-a281-0d5dc54f6902",
   "metadata": {},
   "outputs": [
    {
     "data": {
      "text/html": [
       "<style>#sk-container-id-2 {color: black;background-color: white;}#sk-container-id-2 pre{padding: 0;}#sk-container-id-2 div.sk-toggleable {background-color: white;}#sk-container-id-2 label.sk-toggleable__label {cursor: pointer;display: block;width: 100%;margin-bottom: 0;padding: 0.3em;box-sizing: border-box;text-align: center;}#sk-container-id-2 label.sk-toggleable__label-arrow:before {content: \"▸\";float: left;margin-right: 0.25em;color: #696969;}#sk-container-id-2 label.sk-toggleable__label-arrow:hover:before {color: black;}#sk-container-id-2 div.sk-estimator:hover label.sk-toggleable__label-arrow:before {color: black;}#sk-container-id-2 div.sk-toggleable__content {max-height: 0;max-width: 0;overflow: hidden;text-align: left;background-color: #f0f8ff;}#sk-container-id-2 div.sk-toggleable__content pre {margin: 0.2em;color: black;border-radius: 0.25em;background-color: #f0f8ff;}#sk-container-id-2 input.sk-toggleable__control:checked~div.sk-toggleable__content {max-height: 200px;max-width: 100%;overflow: auto;}#sk-container-id-2 input.sk-toggleable__control:checked~label.sk-toggleable__label-arrow:before {content: \"▾\";}#sk-container-id-2 div.sk-estimator input.sk-toggleable__control:checked~label.sk-toggleable__label {background-color: #d4ebff;}#sk-container-id-2 div.sk-label input.sk-toggleable__control:checked~label.sk-toggleable__label {background-color: #d4ebff;}#sk-container-id-2 input.sk-hidden--visually {border: 0;clip: rect(1px 1px 1px 1px);clip: rect(1px, 1px, 1px, 1px);height: 1px;margin: -1px;overflow: hidden;padding: 0;position: absolute;width: 1px;}#sk-container-id-2 div.sk-estimator {font-family: monospace;background-color: #f0f8ff;border: 1px dotted black;border-radius: 0.25em;box-sizing: border-box;margin-bottom: 0.5em;}#sk-container-id-2 div.sk-estimator:hover {background-color: #d4ebff;}#sk-container-id-2 div.sk-parallel-item::after {content: \"\";width: 100%;border-bottom: 1px solid gray;flex-grow: 1;}#sk-container-id-2 div.sk-label:hover label.sk-toggleable__label {background-color: #d4ebff;}#sk-container-id-2 div.sk-serial::before {content: \"\";position: absolute;border-left: 1px solid gray;box-sizing: border-box;top: 0;bottom: 0;left: 50%;z-index: 0;}#sk-container-id-2 div.sk-serial {display: flex;flex-direction: column;align-items: center;background-color: white;padding-right: 0.2em;padding-left: 0.2em;position: relative;}#sk-container-id-2 div.sk-item {position: relative;z-index: 1;}#sk-container-id-2 div.sk-parallel {display: flex;align-items: stretch;justify-content: center;background-color: white;position: relative;}#sk-container-id-2 div.sk-item::before, #sk-container-id-2 div.sk-parallel-item::before {content: \"\";position: absolute;border-left: 1px solid gray;box-sizing: border-box;top: 0;bottom: 0;left: 50%;z-index: -1;}#sk-container-id-2 div.sk-parallel-item {display: flex;flex-direction: column;z-index: 1;position: relative;background-color: white;}#sk-container-id-2 div.sk-parallel-item:first-child::after {align-self: flex-end;width: 50%;}#sk-container-id-2 div.sk-parallel-item:last-child::after {align-self: flex-start;width: 50%;}#sk-container-id-2 div.sk-parallel-item:only-child::after {width: 0;}#sk-container-id-2 div.sk-dashed-wrapped {border: 1px dashed gray;margin: 0 0.4em 0.5em 0.4em;box-sizing: border-box;padding-bottom: 0.4em;background-color: white;}#sk-container-id-2 div.sk-label label {font-family: monospace;font-weight: bold;display: inline-block;line-height: 1.2em;}#sk-container-id-2 div.sk-label-container {text-align: center;}#sk-container-id-2 div.sk-container {/* jupyter's `normalize.less` sets `[hidden] { display: none; }` but bootstrap.min.css set `[hidden] { display: none !important; }` so we also need the `!important` here to be able to override the default hidden behavior on the sphinx rendered scikit-learn.org. See: https://github.com/scikit-learn/scikit-learn/issues/21755 */display: inline-block !important;position: relative;}#sk-container-id-2 div.sk-text-repr-fallback {display: none;}</style><div id=\"sk-container-id-2\" class=\"sk-top-container\"><div class=\"sk-text-repr-fallback\"><pre>Pipeline(steps=[(&#x27;preprocessor_ct&#x27;,\n",
       "                 Pipeline(steps=[(&#x27;cat_num_transform&#x27;,\n",
       "                                  ColumnTransformer(transformers=[(&#x27;cat&#x27;,\n",
       "                                                                   OrdinalEncoder(),\n",
       "                                                                   [&#x27;Gender&#x27;,\n",
       "                                                                    &#x27;Date&#x27;,\n",
       "                                                                    &#x27;Time&#x27;])]))])),\n",
       "                (&#x27;poly_feat&#x27;, PolynomialFeatures(interaction_only=True)),\n",
       "                (&#x27;classifier&#x27;, LogisticRegression(random_state=42, tol=2))])</pre><b>In a Jupyter environment, please rerun this cell to show the HTML representation or trust the notebook. <br />On GitHub, the HTML representation is unable to render, please try loading this page with nbviewer.org.</b></div><div class=\"sk-container\" hidden><div class=\"sk-item sk-dashed-wrapped\"><div class=\"sk-label-container\"><div class=\"sk-label sk-toggleable\"><input class=\"sk-toggleable__control sk-hidden--visually\" id=\"sk-estimator-id-10\" type=\"checkbox\" ><label for=\"sk-estimator-id-10\" class=\"sk-toggleable__label sk-toggleable__label-arrow\">Pipeline</label><div class=\"sk-toggleable__content\"><pre>Pipeline(steps=[(&#x27;preprocessor_ct&#x27;,\n",
       "                 Pipeline(steps=[(&#x27;cat_num_transform&#x27;,\n",
       "                                  ColumnTransformer(transformers=[(&#x27;cat&#x27;,\n",
       "                                                                   OrdinalEncoder(),\n",
       "                                                                   [&#x27;Gender&#x27;,\n",
       "                                                                    &#x27;Date&#x27;,\n",
       "                                                                    &#x27;Time&#x27;])]))])),\n",
       "                (&#x27;poly_feat&#x27;, PolynomialFeatures(interaction_only=True)),\n",
       "                (&#x27;classifier&#x27;, LogisticRegression(random_state=42, tol=2))])</pre></div></div></div><div class=\"sk-serial\"><div class=\"sk-item\"><div class=\"sk-label-container\"><div class=\"sk-label sk-toggleable\"><input class=\"sk-toggleable__control sk-hidden--visually\" id=\"sk-estimator-id-11\" type=\"checkbox\" ><label for=\"sk-estimator-id-11\" class=\"sk-toggleable__label sk-toggleable__label-arrow\">preprocessor_ct: Pipeline</label><div class=\"sk-toggleable__content\"><pre>Pipeline(steps=[(&#x27;cat_num_transform&#x27;,\n",
       "                 ColumnTransformer(transformers=[(&#x27;cat&#x27;, OrdinalEncoder(),\n",
       "                                                  [&#x27;Gender&#x27;, &#x27;Date&#x27;,\n",
       "                                                   &#x27;Time&#x27;])]))])</pre></div></div></div><div class=\"sk-serial\"><div class=\"sk-item sk-dashed-wrapped\"><div class=\"sk-label-container\"><div class=\"sk-label sk-toggleable\"><input class=\"sk-toggleable__control sk-hidden--visually\" id=\"sk-estimator-id-12\" type=\"checkbox\" ><label for=\"sk-estimator-id-12\" class=\"sk-toggleable__label sk-toggleable__label-arrow\">cat_num_transform: ColumnTransformer</label><div class=\"sk-toggleable__content\"><pre>ColumnTransformer(transformers=[(&#x27;cat&#x27;, OrdinalEncoder(),\n",
       "                                 [&#x27;Gender&#x27;, &#x27;Date&#x27;, &#x27;Time&#x27;])])</pre></div></div></div><div class=\"sk-parallel\"><div class=\"sk-parallel-item\"><div class=\"sk-item\"><div class=\"sk-label-container\"><div class=\"sk-label sk-toggleable\"><input class=\"sk-toggleable__control sk-hidden--visually\" id=\"sk-estimator-id-13\" type=\"checkbox\" ><label for=\"sk-estimator-id-13\" class=\"sk-toggleable__label sk-toggleable__label-arrow\">cat</label><div class=\"sk-toggleable__content\"><pre>[&#x27;Gender&#x27;, &#x27;Date&#x27;, &#x27;Time&#x27;]</pre></div></div></div><div class=\"sk-serial\"><div class=\"sk-item\"><div class=\"sk-estimator sk-toggleable\"><input class=\"sk-toggleable__control sk-hidden--visually\" id=\"sk-estimator-id-14\" type=\"checkbox\" ><label for=\"sk-estimator-id-14\" class=\"sk-toggleable__label sk-toggleable__label-arrow\">OrdinalEncoder</label><div class=\"sk-toggleable__content\"><pre>OrdinalEncoder()</pre></div></div></div></div></div></div></div></div></div></div><div class=\"sk-item\"><div class=\"sk-estimator sk-toggleable\"><input class=\"sk-toggleable__control sk-hidden--visually\" id=\"sk-estimator-id-15\" type=\"checkbox\" ><label for=\"sk-estimator-id-15\" class=\"sk-toggleable__label sk-toggleable__label-arrow\">PolynomialFeatures</label><div class=\"sk-toggleable__content\"><pre>PolynomialFeatures(interaction_only=True)</pre></div></div></div><div class=\"sk-item\"><div class=\"sk-estimator sk-toggleable\"><input class=\"sk-toggleable__control sk-hidden--visually\" id=\"sk-estimator-id-16\" type=\"checkbox\" ><label for=\"sk-estimator-id-16\" class=\"sk-toggleable__label sk-toggleable__label-arrow\">LogisticRegression</label><div class=\"sk-toggleable__content\"><pre>LogisticRegression(random_state=42, tol=2)</pre></div></div></div></div></div></div></div>"
      ],
      "text/plain": [
       "Pipeline(steps=[('preprocessor_ct',\n",
       "                 Pipeline(steps=[('cat_num_transform',\n",
       "                                  ColumnTransformer(transformers=[('cat',\n",
       "                                                                   OrdinalEncoder(),\n",
       "                                                                   ['Gender',\n",
       "                                                                    'Date',\n",
       "                                                                    'Time'])]))])),\n",
       "                ('poly_feat', PolynomialFeatures(interaction_only=True)),\n",
       "                ('classifier', LogisticRegression(random_state=42, tol=2))])"
      ]
     },
     "execution_count": 25,
     "metadata": {},
     "output_type": "execute_result"
    }
   ],
   "source": [
    "# Train a logistic regression model with interaction 2 degree\n",
    "log_ct = Pipeline([\n",
    "    ('preprocessor_ct', preprocessor_ct),\n",
    "    ('poly_feat', PolynomialFeatures(degree=2, interaction_only=True)),\n",
    "    ('classifier', LogisticRegression(tol=2, fit_intercept=True, random_state=42))\n",
    "])\n",
    "log_ct.fit(X_ct_tra, y_ct_tra)"
   ]
  },
  {
   "cell_type": "code",
   "execution_count": 26,
   "id": "3a9e4029-65a9-4ce5-8b63-fe976841fe96",
   "metadata": {},
   "outputs": [
    {
     "name": "stdout",
     "output_type": "stream",
     "text": [
      "Best C: 0.0001\n"
     ]
    },
    {
     "data": {
      "text/plain": [
       "['log_ct.pkl']"
      ]
     },
     "execution_count": 26,
     "metadata": {},
     "output_type": "execute_result"
    }
   ],
   "source": [
    "# Define hyperparameter grid for grid search\n",
    "param_grid = {\n",
    "    'classifier__C': [0.0001, 0.001, 0.01, 0.1, 1, 10],\n",
    "}\n",
    "\n",
    "# Grid search best hyperparameter\n",
    "grid_search = GridSearchCV(log_ct, param_grid, cv=5, scoring='accuracy')\n",
    "grid_search.fit(X_ct_val, y_ct_val)\n",
    "best_params = grid_search.best_params_\n",
    "best_C = best_params['classifier__C']\n",
    "print(\"Best C:\", best_C)\n",
    "\n",
    "# Apply the best hyperparameters\n",
    "log_ct = Pipeline([\n",
    "    ('preprocessor_ct', preprocessor_ct),\n",
    "    ('poly_feat', PolynomialFeatures(degree=2, interaction_only=True)),\n",
    "    ('classifier', LogisticRegression(tol=2, fit_intercept=True, \n",
    "                                      C=best_C, random_state=42))\n",
    "])\n",
    "\n",
    "# Train final model and load to test.ipynb\n",
    "log_ct.fit(X_ct_train, y_ct_train)\n",
    "joblib.dump(log_ct,'log_ct.pkl')"
   ]
  },
  {
   "cell_type": "markdown",
   "id": "23425596-a242-4670-ac78-d911fe14a6d1",
   "metadata": {},
   "source": [
    "**6. Day of purchase**"
   ]
  },
  {
   "cell_type": "code",
   "execution_count": 27,
   "id": "3164ceb2-6327-4970-b5cc-3fb4e90bbba6",
   "metadata": {},
   "outputs": [],
   "source": [
    "# Divide features by numerical or categorical \n",
    "categorical_dp_cols = ['Branch', 'City', 'Customer type', 'Gender', 'Product line', 'Time', 'Payment']\n",
    "numeric_dp_cols = ['Unit price', 'Quantity', 'Total', 'cogs', 'gross income', 'Rating']\n",
    "\n",
    "# Create a ColumnTransformer to handle encoding which scales numerical and categorical data\n",
    "preprocessor_dp = Pipeline([\n",
    "    ('cat_num_transform', ColumnTransformer(\n",
    "        transformers=[\n",
    "            ('cat', OneHotEncoder(), categorical_dp_cols),\n",
    "            ('num', StandardScaler(), numeric_dp_cols)\n",
    "        ]\n",
    "    ))\n",
    "])"
   ]
  },
  {
   "cell_type": "markdown",
   "id": "2638a826-d8b8-4086-95ac-38afbac2d406",
   "metadata": {},
   "source": [
    "This transformer can be applied to the entire task of use classification to predict day of purchase."
   ]
  },
  {
   "cell_type": "code",
   "execution_count": 28,
   "id": "51fefd04-d89b-41bb-b13d-a48ed59f7269",
   "metadata": {
    "tags": []
   },
   "outputs": [
    {
     "data": {
      "text/plain": [
       "[array([0, 1, 2, 3, 4, 5, 6])]"
      ]
     },
     "execution_count": 28,
     "metadata": {},
     "output_type": "execute_result"
    }
   ],
   "source": [
    "# Split the dataset into features and the target variable\n",
    "cat_enc = OrdinalEncoder()\n",
    "X_dp = df.drop(columns=['Date'])\n",
    "y_dp = cat_enc.fit_transform(df[['Date']]).ravel()\n",
    "\n",
    "# Split the data into training and testing sets\n",
    "X_dp_train, X_dp_test, y_dp_train, y_dp_test = train_test_split(X_dp, y_dp, test_size=0.2, stratify=y_dp,\n",
    "                                                            random_state=42)\n",
    "X_dp_tra, X_dp_val, y_dp_tra, y_dp_val = train_test_split(X_dp_train, y_dp_train, test_size=0.3, stratify=y_dp_train,\n",
    "                                                            random_state=42)\n",
    "# load test sets to test.ipynb\n",
    "with open('X_dp_test.pkl', 'wb') as file:\n",
    "    pickle.dump(X_dp_test, file)\n",
    "with open('y_dp_test.pkl', 'wb') as file:\n",
    "    pickle.dump(y_dp_test, file)\n",
    "\n",
    "cat_enc.categories_"
   ]
  },
  {
   "cell_type": "markdown",
   "id": "91fd9f67-3da6-4942-9a2e-33fb8cf09290",
   "metadata": {},
   "source": [
    "0 - Monday, 1 - Tuesday, 2 - Wednesday, 3 - Thursday, 4 - Friday, 5 - Saturday, 6 - Sunday"
   ]
  },
  {
   "cell_type": "markdown",
   "id": "3cf97447-7108-4368-bac7-f43ba86d531c",
   "metadata": {},
   "source": [
    "**a. Logistic Regression**"
   ]
  },
  {
   "cell_type": "code",
   "execution_count": 29,
   "id": "f8573cbe-4ccd-4938-b1d5-b21201986324",
   "metadata": {
    "tags": []
   },
   "outputs": [
    {
     "data": {
      "text/html": [
       "<style>#sk-container-id-3 {color: black;background-color: white;}#sk-container-id-3 pre{padding: 0;}#sk-container-id-3 div.sk-toggleable {background-color: white;}#sk-container-id-3 label.sk-toggleable__label {cursor: pointer;display: block;width: 100%;margin-bottom: 0;padding: 0.3em;box-sizing: border-box;text-align: center;}#sk-container-id-3 label.sk-toggleable__label-arrow:before {content: \"▸\";float: left;margin-right: 0.25em;color: #696969;}#sk-container-id-3 label.sk-toggleable__label-arrow:hover:before {color: black;}#sk-container-id-3 div.sk-estimator:hover label.sk-toggleable__label-arrow:before {color: black;}#sk-container-id-3 div.sk-toggleable__content {max-height: 0;max-width: 0;overflow: hidden;text-align: left;background-color: #f0f8ff;}#sk-container-id-3 div.sk-toggleable__content pre {margin: 0.2em;color: black;border-radius: 0.25em;background-color: #f0f8ff;}#sk-container-id-3 input.sk-toggleable__control:checked~div.sk-toggleable__content {max-height: 200px;max-width: 100%;overflow: auto;}#sk-container-id-3 input.sk-toggleable__control:checked~label.sk-toggleable__label-arrow:before {content: \"▾\";}#sk-container-id-3 div.sk-estimator input.sk-toggleable__control:checked~label.sk-toggleable__label {background-color: #d4ebff;}#sk-container-id-3 div.sk-label input.sk-toggleable__control:checked~label.sk-toggleable__label {background-color: #d4ebff;}#sk-container-id-3 input.sk-hidden--visually {border: 0;clip: rect(1px 1px 1px 1px);clip: rect(1px, 1px, 1px, 1px);height: 1px;margin: -1px;overflow: hidden;padding: 0;position: absolute;width: 1px;}#sk-container-id-3 div.sk-estimator {font-family: monospace;background-color: #f0f8ff;border: 1px dotted black;border-radius: 0.25em;box-sizing: border-box;margin-bottom: 0.5em;}#sk-container-id-3 div.sk-estimator:hover {background-color: #d4ebff;}#sk-container-id-3 div.sk-parallel-item::after {content: \"\";width: 100%;border-bottom: 1px solid gray;flex-grow: 1;}#sk-container-id-3 div.sk-label:hover label.sk-toggleable__label {background-color: #d4ebff;}#sk-container-id-3 div.sk-serial::before {content: \"\";position: absolute;border-left: 1px solid gray;box-sizing: border-box;top: 0;bottom: 0;left: 50%;z-index: 0;}#sk-container-id-3 div.sk-serial {display: flex;flex-direction: column;align-items: center;background-color: white;padding-right: 0.2em;padding-left: 0.2em;position: relative;}#sk-container-id-3 div.sk-item {position: relative;z-index: 1;}#sk-container-id-3 div.sk-parallel {display: flex;align-items: stretch;justify-content: center;background-color: white;position: relative;}#sk-container-id-3 div.sk-item::before, #sk-container-id-3 div.sk-parallel-item::before {content: \"\";position: absolute;border-left: 1px solid gray;box-sizing: border-box;top: 0;bottom: 0;left: 50%;z-index: -1;}#sk-container-id-3 div.sk-parallel-item {display: flex;flex-direction: column;z-index: 1;position: relative;background-color: white;}#sk-container-id-3 div.sk-parallel-item:first-child::after {align-self: flex-end;width: 50%;}#sk-container-id-3 div.sk-parallel-item:last-child::after {align-self: flex-start;width: 50%;}#sk-container-id-3 div.sk-parallel-item:only-child::after {width: 0;}#sk-container-id-3 div.sk-dashed-wrapped {border: 1px dashed gray;margin: 0 0.4em 0.5em 0.4em;box-sizing: border-box;padding-bottom: 0.4em;background-color: white;}#sk-container-id-3 div.sk-label label {font-family: monospace;font-weight: bold;display: inline-block;line-height: 1.2em;}#sk-container-id-3 div.sk-label-container {text-align: center;}#sk-container-id-3 div.sk-container {/* jupyter's `normalize.less` sets `[hidden] { display: none; }` but bootstrap.min.css set `[hidden] { display: none !important; }` so we also need the `!important` here to be able to override the default hidden behavior on the sphinx rendered scikit-learn.org. See: https://github.com/scikit-learn/scikit-learn/issues/21755 */display: inline-block !important;position: relative;}#sk-container-id-3 div.sk-text-repr-fallback {display: none;}</style><div id=\"sk-container-id-3\" class=\"sk-top-container\"><div class=\"sk-text-repr-fallback\"><pre>Pipeline(steps=[(&#x27;preprocessor_dp&#x27;,\n",
       "                 Pipeline(steps=[(&#x27;cat_num_transform&#x27;,\n",
       "                                  ColumnTransformer(transformers=[(&#x27;cat&#x27;,\n",
       "                                                                   OneHotEncoder(),\n",
       "                                                                   [&#x27;Branch&#x27;,\n",
       "                                                                    &#x27;City&#x27;,\n",
       "                                                                    &#x27;Customer &#x27;\n",
       "                                                                    &#x27;type&#x27;,\n",
       "                                                                    &#x27;Gender&#x27;,\n",
       "                                                                    &#x27;Product &#x27;\n",
       "                                                                    &#x27;line&#x27;,\n",
       "                                                                    &#x27;Time&#x27;,\n",
       "                                                                    &#x27;Payment&#x27;]),\n",
       "                                                                  (&#x27;num&#x27;,\n",
       "                                                                   StandardScaler(),\n",
       "                                                                   [&#x27;Unit &#x27;\n",
       "                                                                    &#x27;price&#x27;,\n",
       "                                                                    &#x27;Quantity&#x27;,\n",
       "                                                                    &#x27;Total&#x27;,\n",
       "                                                                    &#x27;cogs&#x27;,\n",
       "                                                                    &#x27;gross &#x27;\n",
       "                                                                    &#x27;income&#x27;,\n",
       "                                                                    &#x27;Rating&#x27;])]))])),\n",
       "                (&#x27;classifier&#x27;, LogisticRegression())])</pre><b>In a Jupyter environment, please rerun this cell to show the HTML representation or trust the notebook. <br />On GitHub, the HTML representation is unable to render, please try loading this page with nbviewer.org.</b></div><div class=\"sk-container\" hidden><div class=\"sk-item sk-dashed-wrapped\"><div class=\"sk-label-container\"><div class=\"sk-label sk-toggleable\"><input class=\"sk-toggleable__control sk-hidden--visually\" id=\"sk-estimator-id-17\" type=\"checkbox\" ><label for=\"sk-estimator-id-17\" class=\"sk-toggleable__label sk-toggleable__label-arrow\">Pipeline</label><div class=\"sk-toggleable__content\"><pre>Pipeline(steps=[(&#x27;preprocessor_dp&#x27;,\n",
       "                 Pipeline(steps=[(&#x27;cat_num_transform&#x27;,\n",
       "                                  ColumnTransformer(transformers=[(&#x27;cat&#x27;,\n",
       "                                                                   OneHotEncoder(),\n",
       "                                                                   [&#x27;Branch&#x27;,\n",
       "                                                                    &#x27;City&#x27;,\n",
       "                                                                    &#x27;Customer &#x27;\n",
       "                                                                    &#x27;type&#x27;,\n",
       "                                                                    &#x27;Gender&#x27;,\n",
       "                                                                    &#x27;Product &#x27;\n",
       "                                                                    &#x27;line&#x27;,\n",
       "                                                                    &#x27;Time&#x27;,\n",
       "                                                                    &#x27;Payment&#x27;]),\n",
       "                                                                  (&#x27;num&#x27;,\n",
       "                                                                   StandardScaler(),\n",
       "                                                                   [&#x27;Unit &#x27;\n",
       "                                                                    &#x27;price&#x27;,\n",
       "                                                                    &#x27;Quantity&#x27;,\n",
       "                                                                    &#x27;Total&#x27;,\n",
       "                                                                    &#x27;cogs&#x27;,\n",
       "                                                                    &#x27;gross &#x27;\n",
       "                                                                    &#x27;income&#x27;,\n",
       "                                                                    &#x27;Rating&#x27;])]))])),\n",
       "                (&#x27;classifier&#x27;, LogisticRegression())])</pre></div></div></div><div class=\"sk-serial\"><div class=\"sk-item\"><div class=\"sk-label-container\"><div class=\"sk-label sk-toggleable\"><input class=\"sk-toggleable__control sk-hidden--visually\" id=\"sk-estimator-id-18\" type=\"checkbox\" ><label for=\"sk-estimator-id-18\" class=\"sk-toggleable__label sk-toggleable__label-arrow\">preprocessor_dp: Pipeline</label><div class=\"sk-toggleable__content\"><pre>Pipeline(steps=[(&#x27;cat_num_transform&#x27;,\n",
       "                 ColumnTransformer(transformers=[(&#x27;cat&#x27;, OneHotEncoder(),\n",
       "                                                  [&#x27;Branch&#x27;, &#x27;City&#x27;,\n",
       "                                                   &#x27;Customer type&#x27;, &#x27;Gender&#x27;,\n",
       "                                                   &#x27;Product line&#x27;, &#x27;Time&#x27;,\n",
       "                                                   &#x27;Payment&#x27;]),\n",
       "                                                 (&#x27;num&#x27;, StandardScaler(),\n",
       "                                                  [&#x27;Unit price&#x27;, &#x27;Quantity&#x27;,\n",
       "                                                   &#x27;Total&#x27;, &#x27;cogs&#x27;,\n",
       "                                                   &#x27;gross income&#x27;,\n",
       "                                                   &#x27;Rating&#x27;])]))])</pre></div></div></div><div class=\"sk-serial\"><div class=\"sk-item sk-dashed-wrapped\"><div class=\"sk-label-container\"><div class=\"sk-label sk-toggleable\"><input class=\"sk-toggleable__control sk-hidden--visually\" id=\"sk-estimator-id-19\" type=\"checkbox\" ><label for=\"sk-estimator-id-19\" class=\"sk-toggleable__label sk-toggleable__label-arrow\">cat_num_transform: ColumnTransformer</label><div class=\"sk-toggleable__content\"><pre>ColumnTransformer(transformers=[(&#x27;cat&#x27;, OneHotEncoder(),\n",
       "                                 [&#x27;Branch&#x27;, &#x27;City&#x27;, &#x27;Customer type&#x27;, &#x27;Gender&#x27;,\n",
       "                                  &#x27;Product line&#x27;, &#x27;Time&#x27;, &#x27;Payment&#x27;]),\n",
       "                                (&#x27;num&#x27;, StandardScaler(),\n",
       "                                 [&#x27;Unit price&#x27;, &#x27;Quantity&#x27;, &#x27;Total&#x27;, &#x27;cogs&#x27;,\n",
       "                                  &#x27;gross income&#x27;, &#x27;Rating&#x27;])])</pre></div></div></div><div class=\"sk-parallel\"><div class=\"sk-parallel-item\"><div class=\"sk-item\"><div class=\"sk-label-container\"><div class=\"sk-label sk-toggleable\"><input class=\"sk-toggleable__control sk-hidden--visually\" id=\"sk-estimator-id-20\" type=\"checkbox\" ><label for=\"sk-estimator-id-20\" class=\"sk-toggleable__label sk-toggleable__label-arrow\">cat</label><div class=\"sk-toggleable__content\"><pre>[&#x27;Branch&#x27;, &#x27;City&#x27;, &#x27;Customer type&#x27;, &#x27;Gender&#x27;, &#x27;Product line&#x27;, &#x27;Time&#x27;, &#x27;Payment&#x27;]</pre></div></div></div><div class=\"sk-serial\"><div class=\"sk-item\"><div class=\"sk-estimator sk-toggleable\"><input class=\"sk-toggleable__control sk-hidden--visually\" id=\"sk-estimator-id-21\" type=\"checkbox\" ><label for=\"sk-estimator-id-21\" class=\"sk-toggleable__label sk-toggleable__label-arrow\">OneHotEncoder</label><div class=\"sk-toggleable__content\"><pre>OneHotEncoder()</pre></div></div></div></div></div></div><div class=\"sk-parallel-item\"><div class=\"sk-item\"><div class=\"sk-label-container\"><div class=\"sk-label sk-toggleable\"><input class=\"sk-toggleable__control sk-hidden--visually\" id=\"sk-estimator-id-22\" type=\"checkbox\" ><label for=\"sk-estimator-id-22\" class=\"sk-toggleable__label sk-toggleable__label-arrow\">num</label><div class=\"sk-toggleable__content\"><pre>[&#x27;Unit price&#x27;, &#x27;Quantity&#x27;, &#x27;Total&#x27;, &#x27;cogs&#x27;, &#x27;gross income&#x27;, &#x27;Rating&#x27;]</pre></div></div></div><div class=\"sk-serial\"><div class=\"sk-item\"><div class=\"sk-estimator sk-toggleable\"><input class=\"sk-toggleable__control sk-hidden--visually\" id=\"sk-estimator-id-23\" type=\"checkbox\" ><label for=\"sk-estimator-id-23\" class=\"sk-toggleable__label sk-toggleable__label-arrow\">StandardScaler</label><div class=\"sk-toggleable__content\"><pre>StandardScaler()</pre></div></div></div></div></div></div></div></div></div></div><div class=\"sk-item\"><div class=\"sk-estimator sk-toggleable\"><input class=\"sk-toggleable__control sk-hidden--visually\" id=\"sk-estimator-id-24\" type=\"checkbox\" ><label for=\"sk-estimator-id-24\" class=\"sk-toggleable__label sk-toggleable__label-arrow\">LogisticRegression</label><div class=\"sk-toggleable__content\"><pre>LogisticRegression()</pre></div></div></div></div></div></div></div>"
      ],
      "text/plain": [
       "Pipeline(steps=[('preprocessor_dp',\n",
       "                 Pipeline(steps=[('cat_num_transform',\n",
       "                                  ColumnTransformer(transformers=[('cat',\n",
       "                                                                   OneHotEncoder(),\n",
       "                                                                   ['Branch',\n",
       "                                                                    'City',\n",
       "                                                                    'Customer '\n",
       "                                                                    'type',\n",
       "                                                                    'Gender',\n",
       "                                                                    'Product '\n",
       "                                                                    'line',\n",
       "                                                                    'Time',\n",
       "                                                                    'Payment']),\n",
       "                                                                  ('num',\n",
       "                                                                   StandardScaler(),\n",
       "                                                                   ['Unit '\n",
       "                                                                    'price',\n",
       "                                                                    'Quantity',\n",
       "                                                                    'Total',\n",
       "                                                                    'cogs',\n",
       "                                                                    'gross '\n",
       "                                                                    'income',\n",
       "                                                                    'Rating'])]))])),\n",
       "                ('classifier', LogisticRegression())])"
      ]
     },
     "execution_count": 29,
     "metadata": {},
     "output_type": "execute_result"
    }
   ],
   "source": [
    "# Train a logistic regression model\n",
    "log_dp = Pipeline([\n",
    "    ('preprocessor_dp', preprocessor_dp),\n",
    "    ('classifier', LogisticRegression())\n",
    "])\n",
    "log_dp.fit(X_dp_tra, y_dp_tra)"
   ]
  },
  {
   "cell_type": "code",
   "execution_count": 30,
   "id": "b64316f3-5b71-42b7-95ef-cde8f3906e34",
   "metadata": {},
   "outputs": [
    {
     "name": "stdout",
     "output_type": "stream",
     "text": [
      "Best C: 0.001\n",
      "Best max iter: 250\n"
     ]
    },
    {
     "data": {
      "text/plain": [
       "['log_dp.pkl']"
      ]
     },
     "execution_count": 30,
     "metadata": {},
     "output_type": "execute_result"
    }
   ],
   "source": [
    "# Define hyperparameter grid for grid search\n",
    "param_grid = {\n",
    "    'classifier__C': [0.001, 0.01, 0.1, 1, 10],\n",
    "    'classifier__max_iter': [250, 500, 1000],\n",
    "}\n",
    "\n",
    "# Grid search best hyperparameter\n",
    "grid_search = GridSearchCV(log_dp, param_grid, cv=5, scoring='accuracy')\n",
    "grid_search.fit(X_dp_val, y_dp_val)\n",
    "best_params = grid_search.best_params_\n",
    "best_C = best_params['classifier__C']\n",
    "best_max_iter = best_params['classifier__max_iter']\n",
    "print(\"Best C:\", best_C)\n",
    "print(\"Best max iter:\", best_max_iter)\n",
    "\n",
    "# Apply the best hyperparameters\n",
    "log_dp = Pipeline([\n",
    "    ('preprocessor_dp', preprocessor_dp),\n",
    "    ('classifier', LogisticRegression(penalty='l2', C=best_C, max_iter=best_max_iter, \n",
    "                                      random_state=42))\n",
    "])\n",
    "\n",
    "# Train final model and load to test.ipynb\n",
    "log_dp.fit(X_dp_train, y_dp_train)\n",
    "joblib.dump(log_dp,'log_dp.pkl')"
   ]
  },
  {
   "cell_type": "markdown",
   "id": "903f9099-c57c-4c9d-838d-4c482c48e60b",
   "metadata": {},
   "source": [
    "**b. Random Forest**"
   ]
  },
  {
   "cell_type": "code",
   "execution_count": 31,
   "id": "300bcb6d-ade8-4722-bd60-71b17cf7bfe4",
   "metadata": {
    "tags": []
   },
   "outputs": [
    {
     "data": {
      "text/html": [
       "<style>#sk-container-id-4 {color: black;background-color: white;}#sk-container-id-4 pre{padding: 0;}#sk-container-id-4 div.sk-toggleable {background-color: white;}#sk-container-id-4 label.sk-toggleable__label {cursor: pointer;display: block;width: 100%;margin-bottom: 0;padding: 0.3em;box-sizing: border-box;text-align: center;}#sk-container-id-4 label.sk-toggleable__label-arrow:before {content: \"▸\";float: left;margin-right: 0.25em;color: #696969;}#sk-container-id-4 label.sk-toggleable__label-arrow:hover:before {color: black;}#sk-container-id-4 div.sk-estimator:hover label.sk-toggleable__label-arrow:before {color: black;}#sk-container-id-4 div.sk-toggleable__content {max-height: 0;max-width: 0;overflow: hidden;text-align: left;background-color: #f0f8ff;}#sk-container-id-4 div.sk-toggleable__content pre {margin: 0.2em;color: black;border-radius: 0.25em;background-color: #f0f8ff;}#sk-container-id-4 input.sk-toggleable__control:checked~div.sk-toggleable__content {max-height: 200px;max-width: 100%;overflow: auto;}#sk-container-id-4 input.sk-toggleable__control:checked~label.sk-toggleable__label-arrow:before {content: \"▾\";}#sk-container-id-4 div.sk-estimator input.sk-toggleable__control:checked~label.sk-toggleable__label {background-color: #d4ebff;}#sk-container-id-4 div.sk-label input.sk-toggleable__control:checked~label.sk-toggleable__label {background-color: #d4ebff;}#sk-container-id-4 input.sk-hidden--visually {border: 0;clip: rect(1px 1px 1px 1px);clip: rect(1px, 1px, 1px, 1px);height: 1px;margin: -1px;overflow: hidden;padding: 0;position: absolute;width: 1px;}#sk-container-id-4 div.sk-estimator {font-family: monospace;background-color: #f0f8ff;border: 1px dotted black;border-radius: 0.25em;box-sizing: border-box;margin-bottom: 0.5em;}#sk-container-id-4 div.sk-estimator:hover {background-color: #d4ebff;}#sk-container-id-4 div.sk-parallel-item::after {content: \"\";width: 100%;border-bottom: 1px solid gray;flex-grow: 1;}#sk-container-id-4 div.sk-label:hover label.sk-toggleable__label {background-color: #d4ebff;}#sk-container-id-4 div.sk-serial::before {content: \"\";position: absolute;border-left: 1px solid gray;box-sizing: border-box;top: 0;bottom: 0;left: 50%;z-index: 0;}#sk-container-id-4 div.sk-serial {display: flex;flex-direction: column;align-items: center;background-color: white;padding-right: 0.2em;padding-left: 0.2em;position: relative;}#sk-container-id-4 div.sk-item {position: relative;z-index: 1;}#sk-container-id-4 div.sk-parallel {display: flex;align-items: stretch;justify-content: center;background-color: white;position: relative;}#sk-container-id-4 div.sk-item::before, #sk-container-id-4 div.sk-parallel-item::before {content: \"\";position: absolute;border-left: 1px solid gray;box-sizing: border-box;top: 0;bottom: 0;left: 50%;z-index: -1;}#sk-container-id-4 div.sk-parallel-item {display: flex;flex-direction: column;z-index: 1;position: relative;background-color: white;}#sk-container-id-4 div.sk-parallel-item:first-child::after {align-self: flex-end;width: 50%;}#sk-container-id-4 div.sk-parallel-item:last-child::after {align-self: flex-start;width: 50%;}#sk-container-id-4 div.sk-parallel-item:only-child::after {width: 0;}#sk-container-id-4 div.sk-dashed-wrapped {border: 1px dashed gray;margin: 0 0.4em 0.5em 0.4em;box-sizing: border-box;padding-bottom: 0.4em;background-color: white;}#sk-container-id-4 div.sk-label label {font-family: monospace;font-weight: bold;display: inline-block;line-height: 1.2em;}#sk-container-id-4 div.sk-label-container {text-align: center;}#sk-container-id-4 div.sk-container {/* jupyter's `normalize.less` sets `[hidden] { display: none; }` but bootstrap.min.css set `[hidden] { display: none !important; }` so we also need the `!important` here to be able to override the default hidden behavior on the sphinx rendered scikit-learn.org. See: https://github.com/scikit-learn/scikit-learn/issues/21755 */display: inline-block !important;position: relative;}#sk-container-id-4 div.sk-text-repr-fallback {display: none;}</style><div id=\"sk-container-id-4\" class=\"sk-top-container\"><div class=\"sk-text-repr-fallback\"><pre>Pipeline(steps=[(&#x27;preprocessor_dp&#x27;,\n",
       "                 Pipeline(steps=[(&#x27;cat_num_transform&#x27;,\n",
       "                                  ColumnTransformer(transformers=[(&#x27;cat&#x27;,\n",
       "                                                                   OneHotEncoder(),\n",
       "                                                                   [&#x27;Branch&#x27;,\n",
       "                                                                    &#x27;City&#x27;,\n",
       "                                                                    &#x27;Customer &#x27;\n",
       "                                                                    &#x27;type&#x27;,\n",
       "                                                                    &#x27;Gender&#x27;,\n",
       "                                                                    &#x27;Product &#x27;\n",
       "                                                                    &#x27;line&#x27;,\n",
       "                                                                    &#x27;Time&#x27;,\n",
       "                                                                    &#x27;Payment&#x27;]),\n",
       "                                                                  (&#x27;num&#x27;,\n",
       "                                                                   StandardScaler(),\n",
       "                                                                   [&#x27;Unit &#x27;\n",
       "                                                                    &#x27;price&#x27;,\n",
       "                                                                    &#x27;Quantity&#x27;,\n",
       "                                                                    &#x27;Total&#x27;,\n",
       "                                                                    &#x27;cogs&#x27;,\n",
       "                                                                    &#x27;gross &#x27;\n",
       "                                                                    &#x27;income&#x27;,\n",
       "                                                                    &#x27;Rating&#x27;])]))])),\n",
       "                (&#x27;classifier&#x27;, RandomForestClassifier(random_state=42))])</pre><b>In a Jupyter environment, please rerun this cell to show the HTML representation or trust the notebook. <br />On GitHub, the HTML representation is unable to render, please try loading this page with nbviewer.org.</b></div><div class=\"sk-container\" hidden><div class=\"sk-item sk-dashed-wrapped\"><div class=\"sk-label-container\"><div class=\"sk-label sk-toggleable\"><input class=\"sk-toggleable__control sk-hidden--visually\" id=\"sk-estimator-id-25\" type=\"checkbox\" ><label for=\"sk-estimator-id-25\" class=\"sk-toggleable__label sk-toggleable__label-arrow\">Pipeline</label><div class=\"sk-toggleable__content\"><pre>Pipeline(steps=[(&#x27;preprocessor_dp&#x27;,\n",
       "                 Pipeline(steps=[(&#x27;cat_num_transform&#x27;,\n",
       "                                  ColumnTransformer(transformers=[(&#x27;cat&#x27;,\n",
       "                                                                   OneHotEncoder(),\n",
       "                                                                   [&#x27;Branch&#x27;,\n",
       "                                                                    &#x27;City&#x27;,\n",
       "                                                                    &#x27;Customer &#x27;\n",
       "                                                                    &#x27;type&#x27;,\n",
       "                                                                    &#x27;Gender&#x27;,\n",
       "                                                                    &#x27;Product &#x27;\n",
       "                                                                    &#x27;line&#x27;,\n",
       "                                                                    &#x27;Time&#x27;,\n",
       "                                                                    &#x27;Payment&#x27;]),\n",
       "                                                                  (&#x27;num&#x27;,\n",
       "                                                                   StandardScaler(),\n",
       "                                                                   [&#x27;Unit &#x27;\n",
       "                                                                    &#x27;price&#x27;,\n",
       "                                                                    &#x27;Quantity&#x27;,\n",
       "                                                                    &#x27;Total&#x27;,\n",
       "                                                                    &#x27;cogs&#x27;,\n",
       "                                                                    &#x27;gross &#x27;\n",
       "                                                                    &#x27;income&#x27;,\n",
       "                                                                    &#x27;Rating&#x27;])]))])),\n",
       "                (&#x27;classifier&#x27;, RandomForestClassifier(random_state=42))])</pre></div></div></div><div class=\"sk-serial\"><div class=\"sk-item\"><div class=\"sk-label-container\"><div class=\"sk-label sk-toggleable\"><input class=\"sk-toggleable__control sk-hidden--visually\" id=\"sk-estimator-id-26\" type=\"checkbox\" ><label for=\"sk-estimator-id-26\" class=\"sk-toggleable__label sk-toggleable__label-arrow\">preprocessor_dp: Pipeline</label><div class=\"sk-toggleable__content\"><pre>Pipeline(steps=[(&#x27;cat_num_transform&#x27;,\n",
       "                 ColumnTransformer(transformers=[(&#x27;cat&#x27;, OneHotEncoder(),\n",
       "                                                  [&#x27;Branch&#x27;, &#x27;City&#x27;,\n",
       "                                                   &#x27;Customer type&#x27;, &#x27;Gender&#x27;,\n",
       "                                                   &#x27;Product line&#x27;, &#x27;Time&#x27;,\n",
       "                                                   &#x27;Payment&#x27;]),\n",
       "                                                 (&#x27;num&#x27;, StandardScaler(),\n",
       "                                                  [&#x27;Unit price&#x27;, &#x27;Quantity&#x27;,\n",
       "                                                   &#x27;Total&#x27;, &#x27;cogs&#x27;,\n",
       "                                                   &#x27;gross income&#x27;,\n",
       "                                                   &#x27;Rating&#x27;])]))])</pre></div></div></div><div class=\"sk-serial\"><div class=\"sk-item sk-dashed-wrapped\"><div class=\"sk-label-container\"><div class=\"sk-label sk-toggleable\"><input class=\"sk-toggleable__control sk-hidden--visually\" id=\"sk-estimator-id-27\" type=\"checkbox\" ><label for=\"sk-estimator-id-27\" class=\"sk-toggleable__label sk-toggleable__label-arrow\">cat_num_transform: ColumnTransformer</label><div class=\"sk-toggleable__content\"><pre>ColumnTransformer(transformers=[(&#x27;cat&#x27;, OneHotEncoder(),\n",
       "                                 [&#x27;Branch&#x27;, &#x27;City&#x27;, &#x27;Customer type&#x27;, &#x27;Gender&#x27;,\n",
       "                                  &#x27;Product line&#x27;, &#x27;Time&#x27;, &#x27;Payment&#x27;]),\n",
       "                                (&#x27;num&#x27;, StandardScaler(),\n",
       "                                 [&#x27;Unit price&#x27;, &#x27;Quantity&#x27;, &#x27;Total&#x27;, &#x27;cogs&#x27;,\n",
       "                                  &#x27;gross income&#x27;, &#x27;Rating&#x27;])])</pre></div></div></div><div class=\"sk-parallel\"><div class=\"sk-parallel-item\"><div class=\"sk-item\"><div class=\"sk-label-container\"><div class=\"sk-label sk-toggleable\"><input class=\"sk-toggleable__control sk-hidden--visually\" id=\"sk-estimator-id-28\" type=\"checkbox\" ><label for=\"sk-estimator-id-28\" class=\"sk-toggleable__label sk-toggleable__label-arrow\">cat</label><div class=\"sk-toggleable__content\"><pre>[&#x27;Branch&#x27;, &#x27;City&#x27;, &#x27;Customer type&#x27;, &#x27;Gender&#x27;, &#x27;Product line&#x27;, &#x27;Time&#x27;, &#x27;Payment&#x27;]</pre></div></div></div><div class=\"sk-serial\"><div class=\"sk-item\"><div class=\"sk-estimator sk-toggleable\"><input class=\"sk-toggleable__control sk-hidden--visually\" id=\"sk-estimator-id-29\" type=\"checkbox\" ><label for=\"sk-estimator-id-29\" class=\"sk-toggleable__label sk-toggleable__label-arrow\">OneHotEncoder</label><div class=\"sk-toggleable__content\"><pre>OneHotEncoder()</pre></div></div></div></div></div></div><div class=\"sk-parallel-item\"><div class=\"sk-item\"><div class=\"sk-label-container\"><div class=\"sk-label sk-toggleable\"><input class=\"sk-toggleable__control sk-hidden--visually\" id=\"sk-estimator-id-30\" type=\"checkbox\" ><label for=\"sk-estimator-id-30\" class=\"sk-toggleable__label sk-toggleable__label-arrow\">num</label><div class=\"sk-toggleable__content\"><pre>[&#x27;Unit price&#x27;, &#x27;Quantity&#x27;, &#x27;Total&#x27;, &#x27;cogs&#x27;, &#x27;gross income&#x27;, &#x27;Rating&#x27;]</pre></div></div></div><div class=\"sk-serial\"><div class=\"sk-item\"><div class=\"sk-estimator sk-toggleable\"><input class=\"sk-toggleable__control sk-hidden--visually\" id=\"sk-estimator-id-31\" type=\"checkbox\" ><label for=\"sk-estimator-id-31\" class=\"sk-toggleable__label sk-toggleable__label-arrow\">StandardScaler</label><div class=\"sk-toggleable__content\"><pre>StandardScaler()</pre></div></div></div></div></div></div></div></div></div></div><div class=\"sk-item\"><div class=\"sk-estimator sk-toggleable\"><input class=\"sk-toggleable__control sk-hidden--visually\" id=\"sk-estimator-id-32\" type=\"checkbox\" ><label for=\"sk-estimator-id-32\" class=\"sk-toggleable__label sk-toggleable__label-arrow\">RandomForestClassifier</label><div class=\"sk-toggleable__content\"><pre>RandomForestClassifier(random_state=42)</pre></div></div></div></div></div></div></div>"
      ],
      "text/plain": [
       "Pipeline(steps=[('preprocessor_dp',\n",
       "                 Pipeline(steps=[('cat_num_transform',\n",
       "                                  ColumnTransformer(transformers=[('cat',\n",
       "                                                                   OneHotEncoder(),\n",
       "                                                                   ['Branch',\n",
       "                                                                    'City',\n",
       "                                                                    'Customer '\n",
       "                                                                    'type',\n",
       "                                                                    'Gender',\n",
       "                                                                    'Product '\n",
       "                                                                    'line',\n",
       "                                                                    'Time',\n",
       "                                                                    'Payment']),\n",
       "                                                                  ('num',\n",
       "                                                                   StandardScaler(),\n",
       "                                                                   ['Unit '\n",
       "                                                                    'price',\n",
       "                                                                    'Quantity',\n",
       "                                                                    'Total',\n",
       "                                                                    'cogs',\n",
       "                                                                    'gross '\n",
       "                                                                    'income',\n",
       "                                                                    'Rating'])]))])),\n",
       "                ('classifier', RandomForestClassifier(random_state=42))])"
      ]
     },
     "execution_count": 31,
     "metadata": {},
     "output_type": "execute_result"
    }
   ],
   "source": [
    "# Train a Random forest model\n",
    "rf_dp = Pipeline([\n",
    "    ('preprocessor_dp', preprocessor_dp),\n",
    "    ('classifier', RandomForestClassifier(random_state=42))\n",
    "])\n",
    "rf_dp.fit(X_dp_tra, y_dp_tra)"
   ]
  },
  {
   "cell_type": "code",
   "execution_count": 32,
   "id": "36f83315-cb1f-4078-9c06-0f37191296d6",
   "metadata": {
    "tags": []
   },
   "outputs": [
    {
     "name": "stdout",
     "output_type": "stream",
     "text": [
      "Best n estimators: 150\n",
      "Best criterion: entropy\n",
      "Best max depth: None\n",
      "Best min samples split: 2\n",
      "Best min samples leaf: 2\n"
     ]
    },
    {
     "data": {
      "text/plain": [
       "['rf_dp.pkl']"
      ]
     },
     "execution_count": 32,
     "metadata": {},
     "output_type": "execute_result"
    }
   ],
   "source": [
    "# Define hyperparameter grid for grid search\n",
    "param_grid = {\n",
    "    'classifier__n_estimators': [50, 100, 150],\n",
    "    'classifier__criterion': ['gini', 'entropy'],\n",
    "    'classifier__max_depth': [None, 10, 20, 30],\n",
    "    'classifier__min_samples_split': [2, 5, 10],\n",
    "    'classifier__min_samples_leaf': [1, 2, 4]\n",
    "}\n",
    "\n",
    "# Grid search best hyperparameter\n",
    "grid_search = GridSearchCV(rf_dp, param_grid, cv=5, scoring='accuracy')\n",
    "grid_search.fit(X_dp_val, y_dp_val)\n",
    "best_params = grid_search.best_params_\n",
    "\n",
    "print(\"Best n estimators:\", best_params['classifier__n_estimators'])\n",
    "print(\"Best criterion:\", best_params['classifier__criterion'])\n",
    "print(\"Best max depth:\", best_params['classifier__max_depth'])\n",
    "print(\"Best min samples split:\", best_params['classifier__min_samples_split'])\n",
    "print(\"Best min samples leaf:\", best_params['classifier__min_samples_leaf'])\n",
    "\n",
    "# Apply the best hyperparameters\n",
    "rf_dp = Pipeline([\n",
    "    ('preprocessor_dp', preprocessor_dp),\n",
    "    ('classifier', RandomForestClassifier(random_state=42, \n",
    "                                          n_estimators=best_params['classifier__n_estimators'],\n",
    "                                          criterion=best_params['classifier__criterion'],\n",
    "                                          max_depth=best_params['classifier__max_depth'],\n",
    "                                          min_samples_split=best_params['classifier__min_samples_split'],\n",
    "                                          min_samples_leaf=best_params['classifier__min_samples_leaf']))\n",
    "])\n",
    "\n",
    "# Train final model and load to test.ipynb\n",
    "rf_dp.fit(X_dp_train, y_dp_train)\n",
    "joblib.dump(rf_dp,'rf_dp.pkl')"
   ]
  },
  {
   "cell_type": "code",
   "execution_count": null,
   "id": "80bac8fd-0c41-48d8-bfd5-d5e9d93b32b0",
   "metadata": {},
   "outputs": [],
   "source": []
  }
 ],
 "metadata": {
  "kernelspec": {
   "display_name": "UFRC Python-3.10",
   "language": "python",
   "name": "python3-3.10-ufrc"
  },
  "language_info": {
   "codemirror_mode": {
    "name": "ipython",
    "version": 3
   },
   "file_extension": ".py",
   "mimetype": "text/x-python",
   "name": "python",
   "nbconvert_exporter": "python",
   "pygments_lexer": "ipython3",
   "version": "3.10.5"
  }
 },
 "nbformat": 4,
 "nbformat_minor": 5
}
